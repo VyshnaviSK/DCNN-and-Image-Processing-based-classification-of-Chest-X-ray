{
  "nbformat": 4,
  "nbformat_minor": 0,
  "metadata": {
    "accelerator": "GPU",
    "colab": {
      "provenance": [],
      "collapsed_sections": []
    },
    "kernelspec": {
      "display_name": "Python 3",
      "name": "python3"
    },
    "language_info": {
      "name": "python"
    }
  },
  "cells": [
    {
      "cell_type": "code",
      "metadata": {
        "colab": {
          "base_uri": "https://localhost:8080/",
          "height": 1000
        },
        "id": "YED9dIC4BQa8",
        "outputId": "468a949e-b0b2-422c-ca15-9cb4f1a01b1b"
      },
      "source": [
        "!pip install wandb\n",
        "import wandb\n",
        "wandb.init()"
      ],
      "execution_count": null,
      "outputs": [
        {
          "name": "stdout",
          "output_type": "stream",
          "text": [
            "Collecting wandb\n",
            "\u001b[?25l  Downloading https://files.pythonhosted.org/packages/f6/28/4aefc543967839bdb4e139831b82004279f1c435cede2a9557ccf8369875/wandb-0.10.27-py2.py3-none-any.whl (2.1MB)\n",
            "\u001b[K     |████████████████████████████████| 2.1MB 18.3MB/s \n",
            "\u001b[?25hCollecting subprocess32>=3.5.3\n",
            "\u001b[?25l  Downloading https://files.pythonhosted.org/packages/32/c8/564be4d12629b912ea431f1a50eb8b3b9d00f1a0b1ceff17f266be190007/subprocess32-3.5.4.tar.gz (97kB)\n",
            "\u001b[K     |████████████████████████████████| 102kB 11.1MB/s \n",
            "\u001b[?25hRequirement already satisfied: PyYAML in /usr/local/lib/python3.7/dist-packages (from wandb) (3.13)\n",
            "Collecting pathtools\n",
            "  Downloading https://files.pythonhosted.org/packages/e7/7f/470d6fcdf23f9f3518f6b0b76be9df16dcc8630ad409947f8be2eb0ed13a/pathtools-0.1.2.tar.gz\n",
            "Requirement already satisfied: python-dateutil>=2.6.1 in /usr/local/lib/python3.7/dist-packages (from wandb) (2.8.1)\n",
            "Requirement already satisfied: promise<3,>=2.0 in /usr/local/lib/python3.7/dist-packages (from wandb) (2.3)\n",
            "Requirement already satisfied: six>=1.13.0 in /usr/local/lib/python3.7/dist-packages (from wandb) (1.15.0)\n",
            "Collecting sentry-sdk>=0.4.0\n",
            "\u001b[?25l  Downloading https://files.pythonhosted.org/packages/f3/92/5a33be64990ba815364a8f2dd9e6f51de60d23dfddafb4f1fc5577d4dc64/sentry_sdk-1.0.0-py2.py3-none-any.whl (131kB)\n",
            "\u001b[K     |████████████████████████████████| 133kB 52.2MB/s \n",
            "\u001b[?25hCollecting configparser>=3.8.1\n",
            "  Downloading https://files.pythonhosted.org/packages/fd/01/ff260a18caaf4457eb028c96eeb405c4a230ca06c8ec9c1379f813caa52e/configparser-5.0.2-py3-none-any.whl\n",
            "Requirement already satisfied: requests<3,>=2.0.0 in /usr/local/lib/python3.7/dist-packages (from wandb) (2.23.0)\n",
            "Requirement already satisfied: protobuf>=3.12.0 in /usr/local/lib/python3.7/dist-packages (from wandb) (3.12.4)\n",
            "Requirement already satisfied: psutil>=5.0.0 in /usr/local/lib/python3.7/dist-packages (from wandb) (5.4.8)\n",
            "Collecting shortuuid>=0.5.0\n",
            "  Downloading https://files.pythonhosted.org/packages/25/a6/2ecc1daa6a304e7f1b216f0896b26156b78e7c38e1211e9b798b4716c53d/shortuuid-1.0.1-py3-none-any.whl\n",
            "Requirement already satisfied: Click>=7.0 in /usr/local/lib/python3.7/dist-packages (from wandb) (7.1.2)\n",
            "Collecting GitPython>=1.0.0\n",
            "\u001b[?25l  Downloading https://files.pythonhosted.org/packages/a6/99/98019716955ba243657daedd1de8f3a88ca1f5b75057c38e959db22fb87b/GitPython-3.1.14-py3-none-any.whl (159kB)\n",
            "\u001b[K     |████████████████████████████████| 163kB 55.4MB/s \n",
            "\u001b[?25hCollecting docker-pycreds>=0.4.0\n",
            "  Downloading https://files.pythonhosted.org/packages/f5/e8/f6bd1eee09314e7e6dee49cbe2c5e22314ccdb38db16c9fc72d2fa80d054/docker_pycreds-0.4.0-py2.py3-none-any.whl\n",
            "Requirement already satisfied: certifi in /usr/local/lib/python3.7/dist-packages (from sentry-sdk>=0.4.0->wandb) (2020.12.5)\n",
            "Requirement already satisfied: urllib3>=1.10.0 in /usr/local/lib/python3.7/dist-packages (from sentry-sdk>=0.4.0->wandb) (1.24.3)\n",
            "Requirement already satisfied: chardet<4,>=3.0.2 in /usr/local/lib/python3.7/dist-packages (from requests<3,>=2.0.0->wandb) (3.0.4)\n",
            "Requirement already satisfied: idna<3,>=2.5 in /usr/local/lib/python3.7/dist-packages (from requests<3,>=2.0.0->wandb) (2.10)\n",
            "Requirement already satisfied: setuptools in /usr/local/lib/python3.7/dist-packages (from protobuf>=3.12.0->wandb) (54.2.0)\n",
            "Collecting gitdb<5,>=4.0.1\n",
            "\u001b[?25l  Downloading https://files.pythonhosted.org/packages/ea/e8/f414d1a4f0bbc668ed441f74f44c116d9816833a48bf81d22b697090dba8/gitdb-4.0.7-py3-none-any.whl (63kB)\n",
            "\u001b[K     |████████████████████████████████| 71kB 11.3MB/s \n",
            "\u001b[?25hCollecting smmap<5,>=3.0.1\n",
            "  Downloading https://files.pythonhosted.org/packages/68/ee/d540eb5e5996eb81c26ceffac6ee49041d473bc5125f2aa995cf51ec1cf1/smmap-4.0.0-py2.py3-none-any.whl\n",
            "Building wheels for collected packages: subprocess32, pathtools\n",
            "  Building wheel for subprocess32 (setup.py) ... \u001b[?25l\u001b[?25hdone\n",
            "  Created wheel for subprocess32: filename=subprocess32-3.5.4-cp37-none-any.whl size=6489 sha256=91caa21d33c38f2e5fa16a872f416fff795050c5279c2cd5ffb0a0a0f2859141\n",
            "  Stored in directory: /root/.cache/pip/wheels/68/39/1a/5e402bdfdf004af1786c8b853fd92f8c4a04f22aad179654d1\n",
            "  Building wheel for pathtools (setup.py) ... \u001b[?25l\u001b[?25hdone\n",
            "  Created wheel for pathtools: filename=pathtools-0.1.2-cp37-none-any.whl size=8786 sha256=555b5c78bf0f70617ca03c47246d9bd53d32019ee32661020d6f8ee0b1d5c32a\n",
            "  Stored in directory: /root/.cache/pip/wheels/0b/04/79/c3b0c3a0266a3cb4376da31e5bfe8bba0c489246968a68e843\n",
            "Successfully built subprocess32 pathtools\n",
            "Installing collected packages: subprocess32, pathtools, sentry-sdk, configparser, shortuuid, smmap, gitdb, GitPython, docker-pycreds, wandb\n",
            "Successfully installed GitPython-3.1.14 configparser-5.0.2 docker-pycreds-0.4.0 gitdb-4.0.7 pathtools-0.1.2 sentry-sdk-1.0.0 shortuuid-1.0.1 smmap-4.0.0 subprocess32-3.5.4 wandb-0.10.27\n"
          ]
        },
        {
          "data": {
            "application/javascript": [
              "\n",
              "        window._wandbApiKey = new Promise((resolve, reject) => {\n",
              "            function loadScript(url) {\n",
              "            return new Promise(function(resolve, reject) {\n",
              "                let newScript = document.createElement(\"script\");\n",
              "                newScript.onerror = reject;\n",
              "                newScript.onload = resolve;\n",
              "                document.body.appendChild(newScript);\n",
              "                newScript.src = url;\n",
              "            });\n",
              "            }\n",
              "            loadScript(\"https://cdn.jsdelivr.net/npm/postmate/build/postmate.min.js\").then(() => {\n",
              "            const iframe = document.createElement('iframe')\n",
              "            iframe.style.cssText = \"width:0;height:0;border:none\"\n",
              "            document.body.appendChild(iframe)\n",
              "            const handshake = new Postmate({\n",
              "                container: iframe,\n",
              "                url: 'https://wandb.ai/authorize'\n",
              "            });\n",
              "            const timeout = setTimeout(() => reject(\"Couldn't auto authenticate\"), 5000)\n",
              "            handshake.then(function(child) {\n",
              "                child.on('authorize', data => {\n",
              "                    clearTimeout(timeout)\n",
              "                    resolve(data)\n",
              "                });\n",
              "            });\n",
              "            })\n",
              "        });\n",
              "    "
            ],
            "text/plain": [
              "<IPython.core.display.Javascript object>"
            ]
          },
          "metadata": {
            "tags": []
          },
          "output_type": "display_data"
        },
        {
          "name": "stderr",
          "output_type": "stream",
          "text": [
            "\u001b[34m\u001b[1mwandb\u001b[0m: Appending key for api.wandb.ai to your netrc file: /root/.netrc\n"
          ]
        },
        {
          "data": {
            "text/html": [
              "\n",
              "                Tracking run with wandb version 0.10.27<br/>\n",
              "                Syncing run <strong style=\"color:#cdcd00\">dauntless-frost-6</strong> to <a href=\"https://wandb.ai\" target=\"_blank\">Weights & Biases</a> <a href=\"https://docs.wandb.com/integrations/jupyter.html\" target=\"_blank\">(Documentation)</a>.<br/>\n",
              "                Project page: <a href=\"https://wandb.ai/amiteshbadkul/uncategorized\" target=\"_blank\">https://wandb.ai/amiteshbadkul/uncategorized</a><br/>\n",
              "                Run page: <a href=\"https://wandb.ai/amiteshbadkul/uncategorized/runs/1obzxar8\" target=\"_blank\">https://wandb.ai/amiteshbadkul/uncategorized/runs/1obzxar8</a><br/>\n",
              "                Run data is saved locally in <code>/content/wandb/run-20210422_123221-1obzxar8</code><br/><br/>\n",
              "            "
            ],
            "text/plain": [
              "<IPython.core.display.HTML object>"
            ]
          },
          "metadata": {
            "tags": []
          },
          "output_type": "display_data"
        },
        {
          "data": {
            "text/html": [
              "<h1>Run(1obzxar8)</h1><iframe src=\"https://wandb.ai/amiteshbadkul/uncategorized/runs/1obzxar8\" style=\"border:none;width:100%;height:400px\"></iframe>"
            ],
            "text/plain": [
              "<wandb.sdk.wandb_run.Run at 0x7f9aaccf1750>"
            ]
          },
          "execution_count": 1,
          "metadata": {
            "tags": []
          },
          "output_type": "execute_result"
        }
      ]
    },
    {
      "cell_type": "code",
      "metadata": {
        "id": "l5gjsY2CICOM"
      },
      "source": [
        "from keras.applications.xception import Xception, preprocess_input\n",
        "from keras.preprocessing import image\n",
        "from keras.models import Model\n",
        "from keras.layers import Input\n",
        "from keras.layers import Dense, GlobalAveragePooling2D\n",
        "from keras import backend as K\n",
        "from keras.models import Sequential\n",
        "from keras.layers import Dense\n",
        "from keras.layers import Dropout\n",
        "from keras.layers import Flatten\n",
        "from keras.layers.convolutional import Conv2D\n",
        "from keras.layers.convolutional import MaxPooling2D\n",
        "from keras.layers import BatchNormalization\n",
        "import keras\n",
        "import numpy as np\n",
        "import os\n",
        "import keras\n",
        "import numpy as np\n",
        "import tensorflow as tf\n",
        "#from tensorflow.keras.preprocessing.image import image\n",
        "from keras.preprocessing.image import img_to_array\n",
        "from keras.applications.resnet50 import preprocess_input\n",
        "from keras.applications.imagenet_utils import decode_predictions\n",
        "import matplotlib.pyplot as plt\n",
        "import cv2\n",
        "import tensorflow_datasets as tfds\n",
        "from tensorflow.keras.datasets import mnist\n",
        "import tensorflow as tf\n",
        "import matplotlib.image as img\n",
        "%matplotlib inline\n",
        "import numpy as np\n",
        "from collections import defaultdict\n",
        "import collections\n",
        "from shutil import copy\n",
        "from shutil import copytree, rmtree\n",
        "import tensorflow.keras.backend as K\n",
        "from tensorflow.keras.models import load_model\n",
        "from tensorflow.keras.preprocessing import image\n",
        "import matplotlib.pyplot as plt\n",
        "import numpy as np\n",
        "import os\n",
        "import random\n",
        "import tensorflow as tf\n",
        "import tensorflow.keras.backend as K\n",
        "from tensorflow.keras import regularizers\n",
        "from tensorflow.keras.applications.inception_v3 import InceptionV3\n",
        "from tensorflow.keras.models import Sequential, Model\n",
        "from tensorflow.keras.layers import Dense, Dropout, Activation, Flatten\n",
        "from tensorflow.keras.layers import Convolution2D, MaxPooling2D, ZeroPadding2D, GlobalAveragePooling2D, AveragePooling2D\n",
        "from tensorflow.keras.preprocessing.image import ImageDataGenerator\n",
        "from tensorflow.keras.callbacks import ModelCheckpoint, CSVLogger\n",
        "from tensorflow.keras.optimizers import SGD\n",
        "from tensorflow.keras.regularizers import l2\n",
        "from tensorflow import keras\n",
        "from tensorflow.keras import models\n",
        "import cv2\n",
        "\n",
        "import numpy as np\n",
        "import glob\n",
        "import cv2\n",
        "import os\n",
        "import matplotlib.pyplot as plt\n",
        "import h5py\n",
        "\n",
        "from tensorflow.keras import layers, optimizers\n",
        "from tensorflow.keras.applications.resnet50 import ResNet50\n",
        "from tensorflow.keras.applications.inception_v3 import InceptionV3\n",
        "from tensorflow.keras.layers import BatchNormalization, Flatten, Conv2D, SeparableConv2D\n",
        "from tensorflow.keras.layers import Input, Add, Dense, Activation, ZeroPadding2D, AveragePooling2D, MaxPooling2D, Dropout\n",
        "from tensorflow.keras.models import Model, load_model\n",
        "from tensorflow.keras import backend as K\n",
        "# from tensorflow.keras.backend.tensorflow_backend import set_session\n",
        "from tensorflow.keras.preprocessing.image import ImageDataGenerator\n",
        "from tensorflow.keras.callbacks import ReduceLROnPlateau, EarlyStopping, ModelCheckpoint, LearningRateScheduler\n",
        "import seaborn as sns\n",
        "import pandas as pd\n",
        "from sklearn.metrics import confusion_matrix, classification_report, accuracy_score\n",
        "from keras.models import load_model\n",
        "from sklearn.datasets import load_files   \n",
        "from keras.utils import np_utils\n",
        "from glob import glob\n",
        "from keras import applications\n",
        "from keras.preprocessing.image import ImageDataGenerator \n",
        "from keras import optimizers\n",
        "from keras.models import Sequential,Model,load_model\n",
        "from keras.layers import Dense, Dropout, Flatten, Conv2D, MaxPool2D,GlobalAveragePooling2D\n",
        "from keras.callbacks import TensorBoard,ReduceLROnPlateau,ModelCheckpoint"
      ],
      "execution_count": null,
      "outputs": []
    },
    {
      "cell_type": "code",
      "metadata": {
        "colab": {
          "base_uri": "https://localhost:8080/"
        },
        "id": "iJvzm3Y37tJK",
        "outputId": "c0b34555-a848-4560-f8f6-613ecaa8008f"
      },
      "source": [
        "from google.colab import drive\n",
        "drive.mount('/content/drive')"
      ],
      "execution_count": null,
      "outputs": [
        {
          "name": "stdout",
          "output_type": "stream",
          "text": [
            "Mounted at /content/drive\n"
          ]
        }
      ]
    },
    {
      "cell_type": "code",
      "metadata": {
        "colab": {
          "base_uri": "https://localhost:8080/"
        },
        "id": "8QzpRrPf8CgP",
        "outputId": "17a2293b-4748-4154-ae40-a1c27cb8c94c"
      },
      "source": [
        "datagen = ImageDataGenerator(rescale = 1./255,\n",
        "        validation_split= 0.2,\n",
        "        preprocessing_function=preprocess_input\n",
        "        ) \n",
        "\n",
        "train_gen = datagen.flow_from_directory( batch_size = 16, \n",
        "                                                      directory= 'drive/MyDrive/DOPTRAIN', \n",
        "                                                      shuffle = True, \n",
        "                                                      target_size = (256, 256), #pixel size\n",
        "                                                      class_mode = 'categorical', #categorical classfication\n",
        "                                                      subset= 'training',\n",
        "                                                       seed = 0)\n",
        "validation_gen = datagen.flow_from_directory(batch_size = 16,\n",
        "                                                     directory= 'drive/MyDrive/DOPTRAIN',\n",
        "                                                     shuffle = True,\n",
        "                                                     target_size = (256, 256),\n",
        "                                                     class_mode = 'categorical', \n",
        "                                                     subset= 'validation')"
      ],
      "execution_count": null,
      "outputs": [
        {
          "name": "stdout",
          "output_type": "stream",
          "text": [
            "Found 3415 images belonging to 4 classes.\n",
            "Found 850 images belonging to 4 classes.\n"
          ]
        }
      ]
    },
    {
      "cell_type": "code",
      "metadata": {
        "id": "QqfdhS13NqEa"
      },
      "source": [
        "#from tensorflow.keras.applications.resnet50 import ResNet50\n",
        "from tensorflow.keras.models import Model\n",
        "import keras\n",
        "xcept = Xcpetion(include_top=False, weights='imagenet', input_shape=(256,256,3))\n",
        "output = xcept.layers[-1].output\n",
        "output = keras.layers.Flatten()(output)\n",
        "xcept = Model(xcept.input, output)\n",
        "for layer in xcept.layers:\n",
        "    layer.trainable = False\n",
        "xcept.summary()"
      ],
      "execution_count": null,
      "outputs": []
    },
    {
      "cell_type": "code",
      "metadata": {
        "id": "Jxk7DISXNxL0"
      },
      "source": [
        "from keras.layers import Conv2D, MaxPooling2D, Flatten, Dense, Dropout, InputLayer\n",
        "from keras.models import Sequential\n",
        "from keras import optimizers\n",
        "# # we use SGD with a low learning rate\n",
        "from tensorflow.keras.optimizers import Nadam\n",
        "from tensorflow.keras.optimizers import Adam\n",
        "model = Sequential()\n",
        "model.add(xcept)\n",
        "model.add(Dense(256, activation='relu', kernel_regularizer=regularizers.l2(0.001), input_dim=256))\n",
        "model.add(Dropout(0.5))\n",
        "model.add(Dense(4, activation='softmax'))\n",
        "model.compile(optimizer=Nadam(lr=0.0001), loss='categorical_crossentropy',metrics=['accuracy'])\n",
        "model.summary()"
      ],
      "execution_count": null,
      "outputs": []
    },
    {
      "cell_type": "code",
      "metadata": {
        "id": "ufgsLXQYN0C3"
      },
      "source": [
        "\n",
        "history = model.fit_generator(train_generator,\n",
        "                    steps_per_epoch = train_generator.n// 16,\n",
        "                    validation_data=validation_generator,\n",
        "                    validation_steps=validation_generator.n // 16,\n",
        "                    epochs=50)"
      ],
      "execution_count": null,
      "outputs": []
    },
    {
      "cell_type": "code",
      "metadata": {
        "colab": {
          "background_save": true,
          "base_uri": "https://localhost:8080/"
        },
        "id": "RAbZ_2ir8Nnf",
        "outputId": "f4cad6f9-5cdf-4ffe-a119-3bbe35af8000"
      },
      "source": [
        "from keras.applications.xception import Xception\n",
        "# from keras.applications.inception_resnet_v2 import InceptionResNetV2\n",
        "base_model = Xception(weights='imagenet', include_top=False)\n",
        "\n",
        "#add a global spatial average pooling layer\n",
        "x = base_model.output\n",
        "x = GlobalAveragePooling2D()(x)\n",
        "x = Dense(256, kernel_regularizer = regularizers.l2(0.001), activation='relu')(x)\n",
        "x = Dropout(0.5)(x)\n",
        "predictions = Dense(4,activation='softmax')(x)\n",
        "\n",
        "model = Model(inputs=base_model.input, outputs=predictions)\n",
        "\n",
        "# # we use SGD with a low learning rate\n",
        "from keras.optimizers import Nadam\n",
        "from keras.optimizers import Adam\n",
        "model.compile(optimizer=Nadam(lr=0.0001), loss='categorical_crossentropy',metrics=['accuracy'])\n",
        "# model.compile(optimizer='adam', loss='binary_crossentropy',metrics=['accuracy'])\n",
        "\n",
        "# # we train our model again (this time fine-tuning the top 2 inception blocks\n",
        "# # alongside the top Dense layers\n",
        "# model.fit_generator(...)\n",
        "#model.fit(X_train, y_train, validation_data=(X_val, y_val),shuffle=\"batch\" ,epochs=10, batch_size=10,verbose=1)\n",
        "history = model.fit(train_gen, \n",
        "                              steps_per_epoch= train_gen.n // 16, \n",
        "                              epochs = 50, \n",
        "                              validation_data= validation_gen, \n",
        "                              validation_steps= validation_gen.n // 16\n",
        "                              )"
      ],
      "execution_count": null,
      "outputs": [
        {
          "name": "stdout",
          "output_type": "stream",
          "text": [
            "Downloading data from https://storage.googleapis.com/tensorflow/keras-applications/xception/xception_weights_tf_dim_ordering_tf_kernels_notop.h5\n",
            "83689472/83683744 [==============================] - 0s 0us/step\n",
            "Epoch 1/50\n",
            "213/213 [==============================] - 1849s 8s/step - loss: 1.1060 - accuracy: 0.7461 - val_loss: 1.1753 - val_accuracy: 0.8691\n",
            "Epoch 2/50\n",
            "213/213 [==============================] - 108s 506ms/step - loss: 0.5424 - accuracy: 0.9507 - val_loss: 0.9869 - val_accuracy: 0.8868\n",
            "Epoch 3/50\n",
            "213/213 [==============================] - 108s 507ms/step - loss: 0.4421 - accuracy: 0.9769 - val_loss: 0.6917 - val_accuracy: 0.8986\n",
            "Epoch 4/50\n",
            "213/213 [==============================] - 108s 507ms/step - loss: 0.4015 - accuracy: 0.9885 - val_loss: 0.7837 - val_accuracy: 0.9175\n",
            "Epoch 5/50\n",
            "213/213 [==============================] - 108s 508ms/step - loss: 0.3639 - accuracy: 0.9848 - val_loss: 0.6939 - val_accuracy: 0.9080\n",
            "Epoch 6/50\n",
            "213/213 [==============================] - 108s 507ms/step - loss: 0.3210 - accuracy: 0.9882 - val_loss: 0.6020 - val_accuracy: 0.9363\n",
            "Epoch 7/50\n",
            "213/213 [==============================] - 108s 504ms/step - loss: 0.2844 - accuracy: 0.9953 - val_loss: 0.6066 - val_accuracy: 0.9245\n",
            "Epoch 8/50\n",
            "213/213 [==============================] - 107s 504ms/step - loss: 0.2406 - accuracy: 0.9991 - val_loss: 0.6122 - val_accuracy: 0.9068\n",
            "Epoch 9/50\n",
            "213/213 [==============================] - 107s 503ms/step - loss: 0.2539 - accuracy: 0.9843 - val_loss: 0.5263 - val_accuracy: 0.9328\n",
            "Epoch 10/50\n",
            "213/213 [==============================] - 108s 507ms/step - loss: 0.2203 - accuracy: 0.9908 - val_loss: 0.6008 - val_accuracy: 0.9198\n",
            "Epoch 11/50\n",
            "213/213 [==============================] - 108s 505ms/step - loss: 0.1891 - accuracy: 0.9924 - val_loss: 0.4998 - val_accuracy: 0.9245\n",
            "Epoch 12/50\n",
            "213/213 [==============================] - 107s 502ms/step - loss: 0.1515 - accuracy: 0.9997 - val_loss: 0.5691 - val_accuracy: 0.9257\n",
            "Epoch 13/50\n",
            "213/213 [==============================] - 108s 507ms/step - loss: 0.1413 - accuracy: 0.9961 - val_loss: 0.4956 - val_accuracy: 0.9269\n",
            "Epoch 14/50\n",
            "213/213 [==============================] - 107s 503ms/step - loss: 0.1294 - accuracy: 0.9957 - val_loss: 0.5278 - val_accuracy: 0.9257\n",
            "Epoch 15/50\n",
            "213/213 [==============================] - 108s 508ms/step - loss: 0.1069 - accuracy: 0.9970 - val_loss: 0.5282 - val_accuracy: 0.9316\n",
            "Epoch 16/50\n",
            "213/213 [==============================] - 108s 507ms/step - loss: 0.0946 - accuracy: 0.9964 - val_loss: 0.4915 - val_accuracy: 0.9316\n",
            "Epoch 17/50\n",
            "213/213 [==============================] - 108s 507ms/step - loss: 0.0839 - accuracy: 0.9968 - val_loss: 0.6155 - val_accuracy: 0.9057\n",
            "Epoch 18/50\n",
            "213/213 [==============================] - 109s 511ms/step - loss: 0.0804 - accuracy: 0.9943 - val_loss: 0.4496 - val_accuracy: 0.9210\n",
            "Epoch 19/50\n",
            "213/213 [==============================] - 109s 509ms/step - loss: 0.0553 - accuracy: 1.0000 - val_loss: 0.5385 - val_accuracy: 0.9139\n",
            "Epoch 20/50\n",
            "213/213 [==============================] - 108s 506ms/step - loss: 0.0656 - accuracy: 0.9960 - val_loss: 0.4592 - val_accuracy: 0.9245\n",
            "Epoch 21/50\n",
            "213/213 [==============================] - 108s 506ms/step - loss: 0.0512 - accuracy: 0.9972 - val_loss: 0.3774 - val_accuracy: 0.9292\n",
            "Epoch 22/50\n",
            "213/213 [==============================] - 108s 508ms/step - loss: 0.0521 - accuracy: 0.9948 - val_loss: 0.6680 - val_accuracy: 0.8927\n",
            "Epoch 23/50\n",
            "213/213 [==============================] - 108s 506ms/step - loss: 0.0454 - accuracy: 0.9936 - val_loss: 0.6589 - val_accuracy: 0.8856\n",
            "Epoch 24/50\n",
            "213/213 [==============================] - 108s 507ms/step - loss: 0.0520 - accuracy: 0.9943 - val_loss: 0.3818 - val_accuracy: 0.9222\n",
            "Epoch 25/50\n",
            "213/213 [==============================] - 108s 507ms/step - loss: 0.0296 - accuracy: 0.9992 - val_loss: 0.4501 - val_accuracy: 0.9269\n",
            "Epoch 26/50\n",
            "213/213 [==============================] - 108s 505ms/step - loss: 0.0406 - accuracy: 0.9924 - val_loss: 0.3909 - val_accuracy: 0.9245\n",
            "Epoch 27/50\n",
            "213/213 [==============================] - 108s 506ms/step - loss: 0.0259 - accuracy: 0.9973 - val_loss: 0.4355 - val_accuracy: 0.9257\n",
            "Epoch 28/50\n",
            "213/213 [==============================] - 108s 506ms/step - loss: 0.0182 - accuracy: 0.9984 - val_loss: 0.4223 - val_accuracy: 0.9328\n",
            "Epoch 29/50\n",
            "213/213 [==============================] - 108s 505ms/step - loss: 0.0192 - accuracy: 0.9983 - val_loss: 0.4209 - val_accuracy: 0.9316\n",
            "Epoch 30/50\n",
            "213/213 [==============================] - 107s 502ms/step - loss: 0.0135 - accuracy: 0.9987 - val_loss: 0.4830 - val_accuracy: 0.9257\n",
            "Epoch 31/50\n",
            "213/213 [==============================] - 107s 502ms/step - loss: 0.0145 - accuracy: 0.9993 - val_loss: 0.4045 - val_accuracy: 0.9245\n",
            "Epoch 32/50\n",
            "213/213 [==============================] - 107s 501ms/step - loss: 0.0125 - accuracy: 0.9989 - val_loss: 0.4891 - val_accuracy: 0.9186\n",
            "Epoch 33/50\n",
            "213/213 [==============================] - 108s 505ms/step - loss: 0.0156 - accuracy: 0.9989 - val_loss: 0.4768 - val_accuracy: 0.9292\n",
            "Epoch 34/50\n",
            "213/213 [==============================] - 107s 503ms/step - loss: 0.0246 - accuracy: 0.9944 - val_loss: 0.4871 - val_accuracy: 0.9151\n",
            "Epoch 35/50\n",
            "213/213 [==============================] - 108s 504ms/step - loss: 0.0280 - accuracy: 0.9954 - val_loss: 0.4391 - val_accuracy: 0.9222\n",
            "Epoch 36/50\n",
            "213/213 [==============================] - 107s 503ms/step - loss: 0.0412 - accuracy: 0.9911 - val_loss: 0.4259 - val_accuracy: 0.9186\n",
            "Epoch 37/50\n",
            "213/213 [==============================] - 108s 506ms/step - loss: 0.0287 - accuracy: 0.9945 - val_loss: 0.4383 - val_accuracy: 0.9316\n",
            "Epoch 38/50\n",
            "213/213 [==============================] - 108s 506ms/step - loss: 0.0231 - accuracy: 0.9972 - val_loss: 0.4643 - val_accuracy: 0.9198\n",
            "Epoch 39/50\n",
            "213/213 [==============================] - 108s 505ms/step - loss: 0.0079 - accuracy: 1.0000 - val_loss: 0.4227 - val_accuracy: 0.9269\n",
            "Epoch 40/50\n",
            "213/213 [==============================] - 107s 502ms/step - loss: 0.0063 - accuracy: 1.0000 - val_loss: 0.4471 - val_accuracy: 0.9304\n",
            "Epoch 41/50\n",
            "213/213 [==============================] - 108s 504ms/step - loss: 0.0054 - accuracy: 1.0000 - val_loss: 0.4515 - val_accuracy: 0.9245\n",
            "Epoch 42/50\n",
            "213/213 [==============================] - 107s 501ms/step - loss: 0.0048 - accuracy: 1.0000 - val_loss: 0.4254 - val_accuracy: 0.9328\n",
            "Epoch 43/50\n",
            "213/213 [==============================] - 108s 504ms/step - loss: 0.0040 - accuracy: 1.0000 - val_loss: 0.4016 - val_accuracy: 0.9304\n",
            "Epoch 44/50\n",
            "213/213 [==============================] - 107s 504ms/step - loss: 0.0079 - accuracy: 0.9983 - val_loss: 0.6225 - val_accuracy: 0.8950\n",
            "Epoch 45/50\n",
            "213/213 [==============================] - 107s 501ms/step - loss: 0.0209 - accuracy: 0.9961 - val_loss: 0.4746 - val_accuracy: 0.9092\n",
            "Epoch 46/50\n",
            "213/213 [==============================] - 107s 504ms/step - loss: 0.0474 - accuracy: 0.9900 - val_loss: 0.4169 - val_accuracy: 0.9281\n",
            "Epoch 47/50\n",
            "213/213 [==============================] - 107s 502ms/step - loss: 0.0192 - accuracy: 0.9975 - val_loss: 0.4478 - val_accuracy: 0.9292\n",
            "Epoch 48/50\n",
            "213/213 [==============================] - 107s 503ms/step - loss: 0.0266 - accuracy: 0.9951 - val_loss: 0.4515 - val_accuracy: 0.9245\n",
            "Epoch 49/50\n",
            "213/213 [==============================] - 108s 504ms/step - loss: 0.0108 - accuracy: 0.9992 - val_loss: 0.4279 - val_accuracy: 0.9292\n",
            "Epoch 50/50\n",
            "213/213 [==============================] - 107s 502ms/step - loss: 0.0082 - accuracy: 0.9994 - val_loss: 0.3741 - val_accuracy: 0.9292\n"
          ]
        }
      ]
    },
    {
      "cell_type": "code",
      "metadata": {
        "id": "ZGxgVLUC7p8-"
      },
      "source": [
        "def plot_accuracy(history,title):\n",
        "    plt.title(title)\n",
        "    plt.plot(history.history['accuracy'])\n",
        "    plt.plot(history.history['val_accuracy'])\n",
        "    plt.ylabel('accuracy')\n",
        "    plt.xlabel('epoch')\n",
        "    plt.legend(['train_accuracy', 'validation_accuracy'], loc='best')\n",
        "    plt.show()\n",
        "def plot_loss(history,title):\n",
        "    plt.title(title)\n",
        "    plt.plot(history.history['loss'])\n",
        "    plt.plot(history.history['val_loss'])\n",
        "    plt.ylabel('loss')\n",
        "    plt.xlabel('epoch')\n",
        "    plt.legend(['train_loss', 'validation_loss'], loc='best')\n",
        "    plt.show()"
      ],
      "execution_count": null,
      "outputs": []
    },
    {
      "cell_type": "code",
      "metadata": {
        "colab": {
          "base_uri": "https://localhost:8080/",
          "height": 573
        },
        "id": "g8fN2OVq75Jw",
        "outputId": "13247259-43ac-494b-bf11-8417d5225eb8"
      },
      "source": [
        "plot_accuracy(history,'Xception')\n",
        "plot_loss(history,'Xception')"
      ],
      "execution_count": null,
      "outputs": [
        {
          "data": {
            "image/png": "[encoded data removed]",
            "text/plain": [
              "<Figure size 432x288 with 1 Axes>"
            ]
          },
          "metadata": {
            "tags": []
          },
          "output_type": "display_data"
        },
        {
          "data": {
            "image/png": "[encoded data removed]",
            "text/plain": [
              "<Figure size 432x288 with 1 Axes>"
            ]
          },
          "metadata": {
            "tags": []
          },
          "output_type": "display_data"
        }
      ]
    },
    {
      "cell_type": "code",
      "metadata": {
        "colab": {
          "base_uri": "https://localhost:8080/"
        },
        "id": "F1sqJ1_Gw1X4",
        "outputId": "3bfb766a-078f-42cc-b95d-c90253623971"
      },
      "source": [
        "evaluate = model.evaluate_generator(test_generator, steps = test_generator.n//1, verbose = 1)"
      ],
      "execution_count": null,
      "outputs": [
        {
          "name": "stderr",
          "output_type": "stream",
          "text": [
            "/usr/local/lib/python3.7/dist-packages/tensorflow/python/keras/engine/training.py:1877: UserWarning: `Model.evaluate_generator` is deprecated and will be removed in a future version. Please use `Model.evaluate`, which supports generators.\n",
            "  warnings.warn('`Model.evaluate_generator` is deprecated and '\n"
          ]
        },
        {
          "name": "stdout",
          "output_type": "stream",
          "text": [
            "234/234 [==============================] - 98s 418ms/step - loss: 1.0863 - accuracy: 0.7393\n"
          ]
        }
      ]
    }
  ]
}