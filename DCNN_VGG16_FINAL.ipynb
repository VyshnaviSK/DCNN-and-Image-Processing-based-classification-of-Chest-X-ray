{
  "nbformat": 4,
  "nbformat_minor": 0,
  "metadata": {
    "accelerator": "GPU",
    "colab": {
      "provenance": [],
      "collapsed_sections": []
    },
    "kernelspec": {
      "display_name": "Python 3",
      "name": "python3"
    },
    "language_info": {
      "name": "python"
    }
  },
  "cells": [
    {
      "cell_type": "code",
      "metadata": {
        "colab": {
          "base_uri": "https://localhost:8080/",
          "height": 614
        },
        "id": "YED9dIC4BQa8",
        "outputId": "81563a83-391f-4f9c-c146-fd0431f9e979"
      },
      "source": [
        "!pip install wandb\n",
        "import wandb\n",
        "wandb.init()"
      ],
      "execution_count": null,
      "outputs": [
        {
          "output_type": "display_data",
          "data": {
            "application/javascript": [
              "\n",
              "        window._wandbApiKey = new Promise((resolve, reject) => {\n",
              "            function loadScript(url) {\n",
              "            return new Promise(function(resolve, reject) {\n",
              "                let newScript = document.createElement(\"script\");\n",
              "                newScript.onerror = reject;\n",
              "                newScript.onload = resolve;\n",
              "                document.body.appendChild(newScript);\n",
              "                newScript.src = url;\n",
              "            });\n",
              "            }\n",
              "            loadScript(\"https://cdn.jsdelivr.net/npm/postmate/build/postmate.min.js\").then(() => {\n",
              "            const iframe = document.createElement('iframe')\n",
              "            iframe.style.cssText = \"width:0;height:0;border:none\"\n",
              "            document.body.appendChild(iframe)\n",
              "            const handshake = new Postmate({\n",
              "                container: iframe,\n",
              "                url: 'https://wandb.ai/authorize'\n",
              "            });\n",
              "            const timeout = setTimeout(() => reject(\"Couldn't auto authenticate\"), 5000)\n",
              "            handshake.then(function(child) {\n",
              "                child.on('authorize', data => {\n",
              "                    clearTimeout(timeout)\n",
              "                    resolve(data)\n",
              "                });\n",
              "            });\n",
              "            })\n",
              "        });\n",
              "    "
            ],
            "text/plain": [
              "<IPython.core.display.Javascript object>"
            ]
          },
          "metadata": {
            "tags": []
          }
        },
        {
          "output_type": "stream",
          "text": [
            "\u001b[34m\u001b[1mwandb\u001b[0m: Appending key for api.wandb.ai to your netrc file: /root/.netrc\n"
          ],
          "name": "stderr"
        },
        {
          "output_type": "display_data",
          "data": {
            "text/html": [
              "\n",
              "                Tracking run with wandb version 0.10.27<br/>\n",
              "                Syncing run <strong style=\"color:#cdcd00\">trim-wind-4</strong> to <a href=\"https://wandb.ai\" target=\"_blank\">Weights & Biases</a> <a href=\"https://docs.wandb.com/integrations/jupyter.html\" target=\"_blank\">(Documentation)</a>.<br/>\n",
              "                Project page: <a href=\"https://wandb.ai/amiteshbadkul/uncategorized\" target=\"_blank\">https://wandb.ai/amiteshbadkul/uncategorized</a><br/>\n",
              "                Run page: <a href=\"https://wandb.ai/amiteshbadkul/uncategorized/runs/1kxcm8au\" target=\"_blank\">https://wandb.ai/amiteshbadkul/uncategorized/runs/1kxcm8au</a><br/>\n",
              "                Run data is saved locally in <code>/content/wandb/run-20210422_090220-1kxcm8au</code><br/><br/>\n",
              "            "
            ],
            "text/plain": [
              "<IPython.core.display.HTML object>"
            ]
          },
          "metadata": {
            "tags": []
          }
        },
        {
          "output_type": "execute_result",
          "data": {
            "text/plain": [
              "<wandb.sdk.wandb_run.Run at 0x7f190b8437d0>"
            ],
            "text/html": [
              "<h1>Run(1kxcm8au)</h1><iframe src=\"https://wandb.ai/amiteshbadkul/uncategorized/runs/1kxcm8au\" style=\"border:none;width:100%;height:400px\"></iframe>"
            ]
          },
          "metadata": {
            "tags": []
          },
          "execution_count": 1
        }
      ]
    },
    {
      "cell_type": "code",
      "metadata": {
        "id": "0Jr63aj97ppG"
      },
      "source": [
        "from keras.applications.xception import Xception, preprocess_input\n",
        "from keras.preprocessing import image\n",
        "from keras.models import Model\n",
        "from keras.layers import Input\n",
        "from keras.layers import Dense, GlobalAveragePooling2D\n",
        "from keras import backend as K\n",
        "from keras.models import Sequential\n",
        "from keras.layers import Dense\n",
        "from keras.layers import Dropout\n",
        "from keras.layers import Flatten\n",
        "from keras.layers.convolutional import Conv2D\n",
        "from keras.layers.convolutional import MaxPooling2D\n",
        "from keras.layers import BatchNormalization\n",
        "import keras\n",
        "import numpy as np\n",
        "import os\n",
        "import keras\n",
        "import numpy as np\n",
        "import tensorflow as tf\n",
        "#from tensorflow.keras.preprocessing.image import image\n",
        "from keras.preprocessing.image import img_to_array\n",
        "from keras.applications.resnet50 import preprocess_input\n",
        "from keras.applications.imagenet_utils import decode_predictions\n",
        "import matplotlib.pyplot as plt\n",
        "import cv2\n",
        "import tensorflow_datasets as tfds\n",
        "from tensorflow.keras.datasets import mnist\n",
        "import tensorflow as tf\n",
        "import matplotlib.image as img\n",
        "%matplotlib inline\n",
        "import numpy as np\n",
        "from collections import defaultdict\n",
        "import collections\n",
        "from shutil import copy\n",
        "from shutil import copytree, rmtree\n",
        "import tensorflow.keras.backend as K\n",
        "from tensorflow.keras.models import load_model\n",
        "from tensorflow.keras.preprocessing import image\n",
        "import matplotlib.pyplot as plt\n",
        "import numpy as np\n",
        "import os\n",
        "import random\n",
        "import tensorflow as tf\n",
        "import tensorflow.keras.backend as K\n",
        "from tensorflow.keras import regularizers\n",
        "from tensorflow.keras.applications.inception_v3 import InceptionV3\n",
        "from tensorflow.keras.models import Sequential, Model\n",
        "from tensorflow.keras.layers import Dense, Dropout, Activation, Flatten\n",
        "from tensorflow.keras.layers import Convolution2D, MaxPooling2D, ZeroPadding2D, GlobalAveragePooling2D, AveragePooling2D\n",
        "from tensorflow.keras.preprocessing.image import ImageDataGenerator\n",
        "from tensorflow.keras.callbacks import ModelCheckpoint, CSVLogger\n",
        "from tensorflow.keras.optimizers import SGD\n",
        "from tensorflow.keras.regularizers import l2\n",
        "from tensorflow import keras\n",
        "from tensorflow.keras import models\n",
        "import cv2\n",
        "\n",
        "import numpy as np\n",
        "import glob\n",
        "import cv2\n",
        "import os\n",
        "import matplotlib.pyplot as plt\n",
        "import h5py\n",
        "\n",
        "from tensorflow.keras import layers, optimizers\n",
        "from tensorflow.keras.applications.resnet50 import ResNet50\n",
        "from tensorflow.keras.applications.inception_v3 import InceptionV3\n",
        "from tensorflow.keras.layers import BatchNormalization, Flatten, Conv2D, SeparableConv2D\n",
        "from tensorflow.keras.layers import Input, Add, Dense, Activation, ZeroPadding2D, AveragePooling2D, MaxPooling2D, Dropout\n",
        "from tensorflow.keras.models import Model, load_model\n",
        "from tensorflow.keras import backend as K\n",
        "# from tensorflow.keras.backend.tensorflow_backend import set_session\n",
        "from tensorflow.keras.preprocessing.image import ImageDataGenerator\n",
        "from tensorflow.keras.callbacks import ReduceLROnPlateau, EarlyStopping, ModelCheckpoint, LearningRateScheduler\n",
        "import seaborn as sns\n",
        "import pandas as pd\n",
        "from sklearn.metrics import confusion_matrix, classification_report, accuracy_score\n",
        "from keras.models import load_model\n",
        "from sklearn.datasets import load_files   \n",
        "from keras.utils import np_utils\n",
        "from glob import glob\n",
        "from keras import applications\n",
        "from keras.preprocessing.image import ImageDataGenerator \n",
        "from keras import optimizers\n",
        "from keras.models import Sequential,Model,load_model\n",
        "from keras.layers import Dense, Dropout, Flatten, Conv2D, MaxPool2D,GlobalAveragePooling2D\n",
        "from keras.callbacks import TensorBoard,ReduceLROnPlateau,ModelCheckpoint"
      ],
      "execution_count": null,
      "outputs": []
    },
    {
      "cell_type": "code",
      "metadata": {
        "colab": {
          "base_uri": "https://localhost:8080/"
        },
        "id": "iJvzm3Y37tJK",
        "outputId": "6fc06388-87d6-4107-a072-2474c6ec2205"
      },
      "source": [
        "from google.colab import drive\n",
        "drive.mount('/content/drive')"
      ],
      "execution_count": null,
      "outputs": [
        {
          "output_type": "stream",
          "text": [
            "Mounted at /content/drive\n"
          ],
          "name": "stdout"
        }
      ]
    },
    {
      "cell_type": "code",
      "metadata": {
        "colab": {
          "base_uri": "https://localhost:8080/"
        },
        "id": "8QzpRrPf8CgP",
        "outputId": "fdcbb2df-b3ef-4550-dc49-271152fa635b"
      },
      "source": [
        "datagen = ImageDataGenerator(rescale = 1./255,\n",
        "        validation_split= 0.2,\n",
        "        preprocessing_function=preprocess_input\n",
        "        ) \n",
        "\n",
        "train_gen = datagen.flow_from_directory( batch_size = 16, \n",
        "                                                      directory= 'drive/MyDrive/DOPTRAIN', \n",
        "                                                      shuffle = True, \n",
        "                                                      target_size = (256, 256), #pixel size\n",
        "                                                      class_mode = 'categorical', #categorical classfication\n",
        "                                                      subset= 'training',\n",
        "                                                       seed = 0)\n",
        "validation_gen = datagen.flow_from_directory(batch_size = 16,\n",
        "                                                     directory= 'drive/MyDrive/DOPTRAIN',\n",
        "                                                     shuffle = True,\n",
        "                                                     target_size = (256, 256),\n",
        "                                                     class_mode = 'categorical', \n",
        "                                                     subset= 'validation')\n"
      ],
      "execution_count": null,
      "outputs": [
        {
          "output_type": "stream",
          "text": [
            "Found 3415 images belonging to 4 classes.\n",
            "Found 850 images belonging to 4 classes.\n"
          ],
          "name": "stdout"
        }
      ]
    },
    {
      "cell_type": "code",
      "metadata": {
        "id": "Q0RTm4OSMmgu"
      },
      "source": [
        "#from tensorflow.keras.applications.resnet50 import ResNet50\n",
        "from tensorflow.keras.models import Model\n",
        "import keras\n",
        "vgg = applications.VGG16(include_top=False, weights='imagenet', input_shape=(256,256,3))\n",
        "output = vgg.layers[-1].output\n",
        "output = keras.layers.Flatten()(output)\n",
        "vgg = Model(vgg.input, output)\n",
        "for layer in vgg.layers:\n",
        "    layer.trainable = False\n",
        "vgg.summary()"
      ],
      "execution_count": null,
      "outputs": []
    },
    {
      "cell_type": "code",
      "metadata": {
        "id": "X4xUOCkENInK"
      },
      "source": [
        "from keras.layers import Conv2D, MaxPooling2D, Flatten, Dense, Dropout, InputLayer\n",
        "from keras.models import Sequential\n",
        "from keras import optimizers\n",
        "# # we use SGD with a low learning rate\n",
        "from tensorflow.keras.optimizers import Nadam\n",
        "from tensorflow.keras.optimizers import Adam\n",
        "model = Sequential()\n",
        "model.add(vgg)\n",
        "model.add(Dense(256, activation='relu', kernel_regularizer=regularizers.l2(0.001), input_dim=256))\n",
        "model.add(Dropout(0.5))\n",
        "model.add(Dense(4, activation='softmax'))\n",
        "model.compile(optimizer=Nadam(lr=0.0001), loss='categorical_crossentropy',metrics=['accuracy'])\n",
        "model.summary()"
      ],
      "execution_count": null,
      "outputs": []
    },
    {
      "cell_type": "code",
      "metadata": {
        "id": "Uox45RHbNOH2"
      },
      "source": [
        "\n",
        "history = model.fit_generator(train_generator,\n",
        "                    steps_per_epoch = train_generator.n// 16,\n",
        "                    validation_data=validation_generator,\n",
        "                    validation_steps=validation_generator.n // 16,\n",
        "                    epochs=50)"
      ],
      "execution_count": null,
      "outputs": []
    },
    {
      "cell_type": "code",
      "metadata": {
        "colab": {
          "base_uri": "https://localhost:8080/"
        },
        "id": "RAbZ_2ir8Nnf",
        "outputId": "7faf0860-a044-4e00-db72-9139d953bb1b"
      },
      "source": [
        "'''from keras.applications.xception import Xception\n",
        "# from keras.applications.inception_resnet_v2 import InceptionResNetV2\n",
        "base_model = applications.VGG16(weights='imagenet', include_top=False)\n",
        "\n",
        "#add a global spatial average pooling layer\n",
        "x = base_model.output\n",
        "x = GlobalAveragePooling2D()(x)\n",
        "x = Dense(256, kernel_regularizer = regularizers.l2(0.001), activation='relu')(x)\n",
        "x = Dropout(0.5)(x)\n",
        "predictions = Dense(4,activation='softmax')(x)\n",
        "\n",
        "model = Model(inputs=base_model.input, outputs=predictions)\n",
        "\n",
        "# # we use SGD with a low learning rate\n",
        "from keras.optimizers import Nadam\n",
        "from keras.optimizers import Adam\n",
        "model.compile(optimizer=Nadam(lr=0.0001), loss='categorical_crossentropy',metrics=['accuracy'])\n",
        "# model.compile(optimizer='adam', loss='binary_crossentropy',metrics=['accuracy'])\n",
        "\n",
        "# # we train our model again (this time fine-tuning the top 2 inception blocks\n",
        "# # alongside the top Dense layers\n",
        "# model.fit_generator(...)\n",
        "#model.fit(X_train, y_train, validation_data=(X_val, y_val),shuffle=\"batch\" ,epochs=10, batch_size=10,verbose=1)\n",
        "history = model.fit(train_gen, \n",
        "                              steps_per_epoch= train_gen.n // 16, \n",
        "                              epochs = 50, \n",
        "                              validation_data= validation_gen, \n",
        "                              validation_steps= validation_gen.n // 16\n",
        "                              )'''"
      ],
      "execution_count": null,
      "outputs": [
        {
          "output_type": "stream",
          "text": [
            "Downloading data from https://storage.googleapis.com/tensorflow/keras-applications/vgg16/vgg16_weights_tf_dim_ordering_tf_kernels_notop.h5\n",
            "58892288/58889256 [==============================] - 1s 0us/step\n",
            "Epoch 1/50\n",
            "213/213 [==============================] - 1576s 7s/step - loss: 1.4924 - accuracy: 0.5194 - val_loss: 0.7971 - val_accuracy: 0.7995\n",
            "Epoch 2/50\n",
            "213/213 [==============================] - 93s 436ms/step - loss: 0.7401 - accuracy: 0.8134 - val_loss: 0.5142 - val_accuracy: 0.8821\n",
            "Epoch 3/50\n",
            "213/213 [==============================] - 93s 434ms/step - loss: 0.5001 - accuracy: 0.8737 - val_loss: 0.4240 - val_accuracy: 0.8986\n",
            "Epoch 4/50\n",
            "213/213 [==============================] - 93s 437ms/step - loss: 0.3916 - accuracy: 0.9021 - val_loss: 0.4916 - val_accuracy: 0.8868\n",
            "Epoch 5/50\n",
            "213/213 [==============================] - 93s 437ms/step - loss: 0.3489 - accuracy: 0.9191 - val_loss: 0.4394 - val_accuracy: 0.8726\n",
            "Epoch 6/50\n",
            "213/213 [==============================] - 94s 439ms/step - loss: 0.3336 - accuracy: 0.9201 - val_loss: 0.6071 - val_accuracy: 0.8455\n",
            "Epoch 7/50\n",
            "213/213 [==============================] - 94s 439ms/step - loss: 0.2843 - accuracy: 0.9350 - val_loss: 0.5288 - val_accuracy: 0.8809\n",
            "Epoch 8/50\n",
            "213/213 [==============================] - 93s 435ms/step - loss: 0.2350 - accuracy: 0.9539 - val_loss: 0.5156 - val_accuracy: 0.8349\n",
            "Epoch 9/50\n",
            "213/213 [==============================] - 93s 435ms/step - loss: 0.7135 - accuracy: 0.7911 - val_loss: 0.4491 - val_accuracy: 0.8691\n",
            "Epoch 10/50\n",
            "213/213 [==============================] - 93s 434ms/step - loss: 0.2956 - accuracy: 0.9296 - val_loss: 0.4516 - val_accuracy: 0.8774\n",
            "Epoch 11/50\n",
            "213/213 [==============================] - 93s 436ms/step - loss: 0.2448 - accuracy: 0.9467 - val_loss: 0.4126 - val_accuracy: 0.9045\n",
            "Epoch 12/50\n",
            "213/213 [==============================] - 93s 436ms/step - loss: 0.1923 - accuracy: 0.9631 - val_loss: 0.4853 - val_accuracy: 0.9033\n",
            "Epoch 13/50\n",
            "213/213 [==============================] - 93s 436ms/step - loss: 0.1760 - accuracy: 0.9674 - val_loss: 0.6033 - val_accuracy: 0.8750\n",
            "Epoch 14/50\n",
            "213/213 [==============================] - 93s 437ms/step - loss: 0.1526 - accuracy: 0.9779 - val_loss: 0.5672 - val_accuracy: 0.9257\n",
            "Epoch 15/50\n",
            "213/213 [==============================] - 93s 435ms/step - loss: 0.1752 - accuracy: 0.9726 - val_loss: 0.4367 - val_accuracy: 0.8998\n",
            "Epoch 16/50\n",
            "213/213 [==============================] - 93s 437ms/step - loss: 0.1368 - accuracy: 0.9816 - val_loss: 0.7075 - val_accuracy: 0.7913\n",
            "Epoch 17/50\n",
            "213/213 [==============================] - 93s 437ms/step - loss: 0.2052 - accuracy: 0.9625 - val_loss: 0.5640 - val_accuracy: 0.9116\n",
            "Epoch 18/50\n",
            "213/213 [==============================] - 93s 438ms/step - loss: 0.1038 - accuracy: 0.9904 - val_loss: 0.6967 - val_accuracy: 0.9127\n",
            "Epoch 19/50\n",
            "213/213 [==============================] - 93s 436ms/step - loss: 0.1064 - accuracy: 0.9901 - val_loss: 0.5634 - val_accuracy: 0.8950\n",
            "Epoch 20/50\n",
            "213/213 [==============================] - 93s 435ms/step - loss: 0.0941 - accuracy: 0.9922 - val_loss: 0.4955 - val_accuracy: 0.9233\n",
            "Epoch 21/50\n",
            "213/213 [==============================] - 93s 437ms/step - loss: 0.0909 - accuracy: 0.9933 - val_loss: 0.6471 - val_accuracy: 0.8856\n",
            "Epoch 22/50\n",
            "213/213 [==============================] - 93s 437ms/step - loss: 0.1224 - accuracy: 0.9846 - val_loss: 0.6653 - val_accuracy: 0.9139\n",
            "Epoch 23/50\n",
            "213/213 [==============================] - 93s 436ms/step - loss: 0.1140 - accuracy: 0.9875 - val_loss: 0.6750 - val_accuracy: 0.8950\n",
            "Epoch 24/50\n",
            "213/213 [==============================] - 93s 436ms/step - loss: 0.1048 - accuracy: 0.9864 - val_loss: 0.5163 - val_accuracy: 0.9127\n",
            "Epoch 25/50\n",
            "213/213 [==============================] - 93s 437ms/step - loss: 0.0822 - accuracy: 0.9938 - val_loss: 0.6943 - val_accuracy: 0.8868\n",
            "Epoch 26/50\n",
            "213/213 [==============================] - 93s 437ms/step - loss: 0.0930 - accuracy: 0.9886 - val_loss: 0.5330 - val_accuracy: 0.8974\n",
            "Epoch 27/50\n",
            "213/213 [==============================] - 93s 438ms/step - loss: 0.0887 - accuracy: 0.9887 - val_loss: 0.7373 - val_accuracy: 0.8738\n",
            "Epoch 28/50\n",
            "213/213 [==============================] - 93s 437ms/step - loss: 0.1139 - accuracy: 0.9810 - val_loss: 0.7171 - val_accuracy: 0.9021\n",
            "Epoch 29/50\n",
            "213/213 [==============================] - 93s 436ms/step - loss: 0.0557 - accuracy: 1.0000 - val_loss: 0.8375 - val_accuracy: 0.9116\n",
            "Epoch 30/50\n",
            "213/213 [==============================] - 93s 436ms/step - loss: 0.0529 - accuracy: 1.0000 - val_loss: 0.9117 - val_accuracy: 0.9151\n",
            "Epoch 31/50\n",
            "213/213 [==============================] - 93s 437ms/step - loss: 0.0503 - accuracy: 1.0000 - val_loss: 0.9399 - val_accuracy: 0.9175\n",
            "Epoch 32/50\n",
            "213/213 [==============================] - 93s 436ms/step - loss: 0.0482 - accuracy: 1.0000 - val_loss: 0.9825 - val_accuracy: 0.9175\n",
            "Epoch 33/50\n",
            "213/213 [==============================] - 93s 435ms/step - loss: 0.0460 - accuracy: 1.0000 - val_loss: 1.0106 - val_accuracy: 0.9175\n",
            "Epoch 34/50\n",
            "213/213 [==============================] - 93s 434ms/step - loss: 0.0439 - accuracy: 1.0000 - val_loss: 1.0504 - val_accuracy: 0.9104\n",
            "Epoch 35/50\n",
            "213/213 [==============================] - 93s 436ms/step - loss: 0.0417 - accuracy: 1.0000 - val_loss: 1.0259 - val_accuracy: 0.9151\n",
            "Epoch 36/50\n",
            "213/213 [==============================] - 92s 432ms/step - loss: 0.0394 - accuracy: 1.0000 - val_loss: 1.0629 - val_accuracy: 0.9163\n",
            "Epoch 37/50\n",
            "213/213 [==============================] - 93s 433ms/step - loss: 0.0372 - accuracy: 1.0000 - val_loss: 1.0691 - val_accuracy: 0.9175\n",
            "Epoch 38/50\n",
            "213/213 [==============================] - 92s 432ms/step - loss: 0.2134 - accuracy: 0.9589 - val_loss: 0.4394 - val_accuracy: 0.8892\n",
            "Epoch 39/50\n",
            "213/213 [==============================] - 93s 434ms/step - loss: 0.1378 - accuracy: 0.9584 - val_loss: 0.7395 - val_accuracy: 0.8998\n",
            "Epoch 40/50\n",
            "213/213 [==============================] - 92s 432ms/step - loss: 0.0983 - accuracy: 0.9744 - val_loss: 0.5148 - val_accuracy: 0.9045\n",
            "Epoch 41/50\n",
            "213/213 [==============================] - 92s 433ms/step - loss: 0.0630 - accuracy: 0.9911 - val_loss: 0.6481 - val_accuracy: 0.9175\n",
            "Epoch 42/50\n",
            "213/213 [==============================] - 92s 432ms/step - loss: 0.0380 - accuracy: 0.9996 - val_loss: 0.9136 - val_accuracy: 0.8703\n",
            "Epoch 43/50\n",
            "213/213 [==============================] - 92s 431ms/step - loss: 0.0578 - accuracy: 0.9918 - val_loss: 0.8324 - val_accuracy: 0.9092\n",
            "Epoch 44/50\n",
            "213/213 [==============================] - 92s 432ms/step - loss: 0.0359 - accuracy: 0.9978 - val_loss: 0.9209 - val_accuracy: 0.8620\n",
            "Epoch 45/50\n",
            "213/213 [==============================] - 93s 434ms/step - loss: 0.0727 - accuracy: 0.9887 - val_loss: 0.6238 - val_accuracy: 0.8833\n",
            "Epoch 46/50\n",
            "213/213 [==============================] - 92s 431ms/step - loss: 0.0409 - accuracy: 0.9952 - val_loss: 0.5728 - val_accuracy: 0.9175\n",
            "Epoch 47/50\n",
            "213/213 [==============================] - 93s 434ms/step - loss: 0.0379 - accuracy: 0.9952 - val_loss: 0.8650 - val_accuracy: 0.8950\n",
            "Epoch 48/50\n",
            "213/213 [==============================] - 93s 435ms/step - loss: 0.0418 - accuracy: 0.9960 - val_loss: 0.8300 - val_accuracy: 0.9139\n",
            "Epoch 49/50\n",
            "213/213 [==============================] - 93s 435ms/step - loss: 0.0560 - accuracy: 0.9924 - val_loss: 0.6108 - val_accuracy: 0.9139\n",
            "Epoch 50/50\n",
            "213/213 [==============================] - 93s 435ms/step - loss: 0.0526 - accuracy: 0.9920 - val_loss: 0.5549 - val_accuracy: 0.8833\n"
          ],
          "name": "stdout"
        }
      ]
    },
    {
      "cell_type": "code",
      "metadata": {
        "id": "ZGxgVLUC7p8-"
      },
      "source": [
        "def plot_accuracy(history,title):\n",
        "    plt.title(title)\n",
        "    plt.plot(history.history['accuracy'])\n",
        "    plt.plot(history.history['val_accuracy'])\n",
        "    plt.ylabel('accuracy')\n",
        "    plt.xlabel('epoch')\n",
        "    plt.legend(['train_accuracy', 'validation_accuracy'], loc='best')\n",
        "    plt.show()\n",
        "def plot_loss(history,title):\n",
        "    plt.title(title)\n",
        "    plt.plot(history.history['loss'])\n",
        "    plt.plot(history.history['val_loss'])\n",
        "    plt.ylabel('loss')\n",
        "    plt.xlabel('epoch')\n",
        "    plt.legend(['train_loss', 'validation_loss'], loc='best')\n",
        "    plt.show()"
      ],
      "execution_count": null,
      "outputs": []
    },
    {
      "cell_type": "code",
      "metadata": {
        "colab": {
          "base_uri": "https://localhost:8080/",
          "height": 573
        },
        "id": "g8fN2OVq75Jw",
        "outputId": "0bc48fca-9d1b-436a-e3df-f1e149a25b3e"
      },
      "source": [
        "plot_accuracy(history,'Xception')\n",
        "plot_loss(history,'Xception')"
      ],
      "execution_count": null,
      "outputs": [
        {
          "output_type": "display_data",
          "data": {
            "image/png": "[encoded data removed]",
            "text/plain": [
              "<Figure size 432x288 with 1 Axes>"
            ]
          },
          "metadata": {
            "tags": [],
            "needs_background": "light"
          }
        },
        {
          "output_type": "display_data",
          "data": {
            "image/png": "[encoded data removed]",
            "text/plain": [
              "<Figure size 432x288 with 1 Axes>"
            ]
          },
          "metadata": {
            "tags": [],
            "needs_background": "light"
          }
        }
      ]
    },
    {
      "cell_type": "code",
      "metadata": {
        "colab": {
          "base_uri": "https://localhost:8080/"
        },
        "id": "F1sqJ1_Gw1X4",
        "outputId": "1e3975bb-e1d2-4fae-cb0f-57f0d62fd493"
      },
      "source": [
        "evaluate = model.evaluate_generator(test_generator, steps = test_generator.n//1, verbose = 1)"
      ],
      "execution_count": null,
      "outputs": [
        {
          "output_type": "stream",
          "text": [
            "/usr/local/lib/python3.7/dist-packages/tensorflow/python/keras/engine/training.py:1877: UserWarning: `Model.evaluate_generator` is deprecated and will be removed in a future version. Please use `Model.evaluate`, which supports generators.\n",
            "  warnings.warn('`Model.evaluate_generator` is deprecated and '\n"
          ],
          "name": "stderr"
        },
        {
          "output_type": "stream",
          "text": [
            "234/234 [==============================] - 105s 448ms/step - loss: 1.5530 - accuracy: 0.2991\n"
          ],
          "name": "stdout"
        }
      ]
    }
  ]
}