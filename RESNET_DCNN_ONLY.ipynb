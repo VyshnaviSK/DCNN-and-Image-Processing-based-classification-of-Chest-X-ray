{
  "nbformat": 4,
  "nbformat_minor": 0,
  "metadata": {
    "accelerator": "GPU",
    "colab": {
      "provenance": [],
      "collapsed_sections": []
    },
    "kernelspec": {
      "display_name": "Python 3",
      "name": "python3"
    },
    "language_info": {
      "name": "python"
    }
  },
  "cells": [
    {
      "cell_type": "code",
      "metadata": {
        "id": "gC_BdL0QG78m"
      },
      "source": [
        "import numpy as np\n",
        "import pandas as pd\n",
        "import matplotlib.pyplot as plt\n",
        "%matplotlib inline \n",
        "import cv2\n",
        "import os\n",
        "from tensorflow.python.keras.callbacks import EarlyStopping, ModelCheckpoint\n"
      ],
      "execution_count": null,
      "outputs": []
    },
    {
      "cell_type": "code",
      "metadata": {
        "id": "BlJe_GSgokd1"
      },
      "source": [
        "import matplotlib.image as img\n",
        "from collections import defaultdict\n",
        "import collections\n",
        "from shutil import copy\n",
        "from shutil import copytree, rmtree\n",
        "import tensorflow.keras.backend as K\n",
        "from tensorflow.keras.models import load_model\n",
        "from tensorflow.keras.preprocessing import image\n",
        "import matplotlib.pyplot as plt\n",
        "import random\n",
        "import tensorflow as tf\n",
        "import tensorflow.keras.backend as K\n",
        "from tensorflow.keras import regularizers\n",
        "from tensorflow.keras.applications.inception_v3 import InceptionV3\n",
        "from tensorflow.keras.models import Sequential, Model\n",
        "from tensorflow.keras.layers import Dense, Dropout, Activation, Flatten\n",
        "from tensorflow.keras.layers import Convolution2D, MaxPooling2D, ZeroPadding2D, GlobalAveragePooling2D, AveragePooling2D\n",
        "from tensorflow.keras.preprocessing.image import ImageDataGenerator\n",
        "from tensorflow.keras.callbacks import ModelCheckpoint, CSVLogger\n",
        "from tensorflow.keras.optimizers import SGD\n",
        "from tensorflow.keras.regularizers import l2\n",
        "from tensorflow import keras\n",
        "from tensorflow.keras import models\n"
      ],
      "execution_count": null,
      "outputs": []
    },
    {
      "cell_type": "code",
      "metadata": {
        "id": "lnVNB0LFHAzG"
      },
      "source": [
        "NUM_CLASSES = 4\n",
        "IMAGE_RESIZE = 224\n",
        "RESNET50_POOLING_AVERAGE = 'avg'\n",
        "DENSE_LAYER_ACTIVATION = 'softmax'\n",
        "OBJECTIVE_FUNCTION = 'categorical_crossentropy'\n",
        "\n",
        "# Common accuracy metric for all outputs, but can use different metrics for different output\n",
        "LOSS_METRICS = ['accuracy']\n",
        "\n",
        "# EARLY_STOP_PATIENCE must be < NUM_EPOCHS\n",
        "NUM_EPOCHS = 15\n",
        "EARLY_STOP_PATIENCE = 10\n",
        "\n",
        "# These steps value should be proper FACTOR of no.-of-images in train & valid folders respectively\n",
        "# NOTE that these BATCH* are for Keras ImageDataGenerator batching to fill epoch step input\n",
        "BATCH_SIZE_TRAINING = 16\n",
        "BATCH_SIZE_VALIDATION = 16\n",
        "\n",
        "# Using 1 to easily manage mapping between test_generator & prediction for submission preparation\n",
        "BATCH_SIZE_TESTING = 1"
      ],
      "execution_count": null,
      "outputs": []
    },
    {
      "cell_type": "code",
      "metadata": {
        "colab": {
          "base_uri": "https://localhost:8080/"
        },
        "id": "RPp8Vl-_HPAM",
        "outputId": "483644c3-7c1e-4424-9980-4c2c6011aee8"
      },
      "source": [
        "### \n",
        "### Below systax is available with TensorFlow 1.11 onwards but this upgrade is not available for Kaggle kernel yet\n",
        "###\n",
        "import tensorflow as tf\n",
        "print(tf.__version__)\n",
        "import tensorflow as tf\n",
        "from tensorflow.keras.applications import ResNet50\n",
        "from tensorflow.keras.models import Sequential\n",
        "from tensorflow.python.keras.layers import Dense"
      ],
      "execution_count": null,
      "outputs": [
        {
          "output_type": "stream",
          "text": [
            "2.4.1\n"
          ],
          "name": "stdout"
        }
      ]
    },
    {
      "cell_type": "code",
      "metadata": {
        "colab": {
          "base_uri": "https://localhost:8080/"
        },
        "id": "5qT9bbyyJD6u",
        "outputId": "6e7912a8-ed71-4be9-a620-9c9bcfa797be"
      },
      "source": [
        "from google.colab import drive\n",
        "drive.mount('/content/drive')\n",
        "\n",
        "from keras.applications.resnet50 import preprocess_input\n",
        "from keras.preprocessing.image import ImageDataGenerator\n",
        "\n",
        "image_size = 256\n",
        "\n",
        "# preprocessing_function is applied on each image but only after re-sizing & augmentation (resize => augment => pre-process)\n",
        "# Each of the keras.application.resnet* preprocess_input MOSTLY mean BATCH NORMALIZATION (applied on each batch) stabilize the inputs to nonlinear activation functions\n",
        "# Batch Normalization helps in faster convergence\n",
        "\n",
        "data_generator = ImageDataGenerator(validation_split = 0.2,\n",
        "                                  preprocessing_function=preprocess_input)\n",
        "\n",
        "\n",
        "# flow_From_directory generates batches of augmented data (where augmentation can be color conversion, etc)\n",
        "# Both train & valid folders must have NUM_CLASSES sub-folders\n",
        "\n",
        "train_generator = data_generator.flow_from_directory(\n",
        "        directory= 'drive/MyDrive/DOPTRAIN',\n",
        "        shuffle = True,\n",
        "        target_size=(image_size, image_size),\n",
        "        batch_size=BATCH_SIZE_TRAINING,\n",
        "        class_mode ='categorical',\n",
        "        subset = \"training\")\n",
        "\n",
        "validation_generator = data_generator.flow_from_directory(\n",
        "        directory= 'drive/MyDrive/DOPTRAIN',\n",
        "        shuffle = True,\n",
        "        target_size=(image_size, image_size),\n",
        "        batch_size=BATCH_SIZE_VALIDATION,\n",
        "        class_mode='categorical',\n",
        "        subset= 'validation') \n",
        "\n",
        "\n",
        "\n"
      ],
      "execution_count": null,
      "outputs": [
        {
          "output_type": "stream",
          "text": [
            "Mounted at /content/drive\n",
            "Found 3415 images belonging to 4 classes.\n",
            "Found 850 images belonging to 4 classes.\n"
          ],
          "name": "stdout"
        }
      ]
    },
    {
      "cell_type": "code",
      "metadata": {
        "id": "vbZpWAXOCaKm",
        "colab": {
          "base_uri": "https://localhost:8080/"
        },
        "outputId": "39cd3b5d-56f8-41fe-ff5f-f4662e0fa381"
      },
      "source": [
        "test_generator = data_generator.flow_from_directory(\n",
        "        directory= 'drive/MyDrive/TESTINGWORKPLS',\n",
        "        shuffle = False,\n",
        "        target_size=(image_size, image_size),\n",
        "        batch_size=1,\n",
        "        class_mode ='categorical'\n",
        "        )\n",
        "\n"
      ],
      "execution_count": null,
      "outputs": [
        {
          "output_type": "stream",
          "text": [
            "Found 406 images belonging to 4 classes.\n"
          ],
          "name": "stdout"
        }
      ]
    },
    {
      "cell_type": "code",
      "metadata": {
        "id": "jvLWLGFsFYCd"
      },
      "source": [
        "from tensorflow.keras.applications.resnet50 import ResNet50\n",
        "from tensorflow.keras.models import Model\n",
        "import keras\n",
        "restnet = ResNet50(include_top=False, weights='imagenet', input_shape=(256,256,3))\n",
        "output = restnet.layers[-1].output\n",
        "output = keras.layers.Flatten()(output)\n",
        "restnet = Model(restnet.input, output)\n",
        "for layer in restnet.layers:\n",
        "    layer.trainable = False\n",
        "restnet.summary()"
      ],
      "execution_count": null,
      "outputs": []
    },
    {
      "cell_type": "code",
      "metadata": {
        "id": "NiMOR5opGD51"
      },
      "source": [
        "from keras.layers import Conv2D, MaxPooling2D, Flatten, Dense, Dropout, InputLayer\n",
        "from keras.models import Sequential\n",
        "from keras import optimizers\n",
        "# # we use SGD with a low learning rate\n",
        "from tensorflow.keras.optimizers import Nadam\n",
        "from tensorflow.keras.optimizers import Adam\n",
        "model = Sequential()\n",
        "model.add(restnet)\n",
        "model.add(Dense(256, activation='relu', kernel_regularizer=regularizers.l2(0.001), input_dim=256))\n",
        "model.add(Dropout(0.5))\n",
        "model.add(Dense(4, activation='softmax'))\n",
        "model.compile(optimizer=Nadam(lr=0.0001), loss='categorical_crossentropy',metrics=['accuracy'])\n",
        "model.summary()"
      ],
      "execution_count": null,
      "outputs": []
    },
    {
      "cell_type": "code",
      "metadata": {
        "id": "zoNFz0JBGGko"
      },
      "source": [
        "\n",
        "history = model.fit_generator(train_generator,\n",
        "                    steps_per_epoch = train_generator.n// 16,\n",
        "                    validation_data=validation_generator,\n",
        "                    validation_steps=validation_generator.n // 16,\n",
        "                    epochs=50)"
      ],
      "execution_count": null,
      "outputs": []
    },
    {
      "cell_type": "code",
      "metadata": {
        "colab": {
          "base_uri": "https://localhost:8080/"
        },
        "id": "FBc7NulEn6Xb",
        "outputId": "88f3d64b-0d42-4639-ba29-97c3ad6968c3"
      },
      "source": [
        "'''\n",
        "resnet = ResNet50(weights='imagenet', include_top=False)\n",
        "x = resnet.output\n",
        "x = GlobalAveragePooling2D()(x)\n",
        "x = Dense(256,kernel_regularizer=regularizers.l2(0.001),activation='relu')(x)\n",
        "x = Dropout(0.5)(x)\n",
        "\n",
        "predictions = Dense(4, activation='softmax')(x)\n",
        "\n",
        "model = Model(inputs=resnet.input, outputs=predictions)\n",
        "\n",
        "# # we use SGD with a low learning rate\n",
        "from keras.optimizers import Nadam\n",
        "from keras.optimizers import Adam\n",
        "model.compile(optimizer=Nadam(lr=0.01), loss='categorical_crossentropy',metrics=['accuracy'])\n",
        "\n",
        "history = model.fit_generator(train_generator,\n",
        "                    steps_per_epoch = train_generator.n// 16,\n",
        "                    validation_data=validation_generator,\n",
        "                    validation_steps=validation_generator.n // 16,\n",
        "                    epochs=10,\n",
        "                    )\n",
        "\n",
        "model.save('model_trained_3class.hdf5')'''"
      ],
      "execution_count": null,
      "outputs": [
        {
          "output_type": "stream",
          "text": [
            "Downloading data from https://storage.googleapis.com/tensorflow/keras-applications/resnet/resnet50_weights_tf_dim_ordering_tf_kernels_notop.h5\n",
            "94773248/94765736 [==============================] - 0s 0us/step\n"
          ],
          "name": "stdout"
        },
        {
          "output_type": "stream",
          "text": [
            "/usr/local/lib/python3.7/dist-packages/tensorflow/python/keras/engine/training.py:1844: UserWarning: `Model.fit_generator` is deprecated and will be removed in a future version. Please use `Model.fit`, which supports generators.\n",
            "  warnings.warn('`Model.fit_generator` is deprecated and '\n"
          ],
          "name": "stderr"
        },
        {
          "output_type": "stream",
          "text": [
            "Epoch 1/10\n",
            "213/213 [==============================] - 1741s 8s/step - loss: 2.1619 - accuracy: 0.5321 - val_loss: 283.2482 - val_accuracy: 0.4080\n",
            "Epoch 2/10\n",
            "213/213 [==============================] - 89s 419ms/step - loss: 0.7684 - accuracy: 0.7516 - val_loss: 8.7297 - val_accuracy: 0.4870\n",
            "Epoch 3/10\n",
            "213/213 [==============================] - 89s 420ms/step - loss: 0.6481 - accuracy: 0.7890 - val_loss: 1.3009 - val_accuracy: 0.6427\n",
            "Epoch 4/10\n",
            "213/213 [==============================] - 89s 416ms/step - loss: 0.6002 - accuracy: 0.8008 - val_loss: 0.9216 - val_accuracy: 0.7146\n",
            "Epoch 5/10\n",
            "213/213 [==============================] - 89s 418ms/step - loss: 0.5379 - accuracy: 0.8175 - val_loss: 2.8014 - val_accuracy: 0.6297\n",
            "Epoch 6/10\n",
            "213/213 [==============================] - 89s 417ms/step - loss: 0.5512 - accuracy: 0.8139 - val_loss: 8.9930 - val_accuracy: 0.5295\n",
            "Epoch 7/10\n",
            "213/213 [==============================] - 89s 419ms/step - loss: 0.6144 - accuracy: 0.8100 - val_loss: 0.5756 - val_accuracy: 0.8455\n",
            "Epoch 8/10\n",
            "213/213 [==============================] - 89s 418ms/step - loss: 0.4955 - accuracy: 0.8381 - val_loss: 2.2424 - val_accuracy: 0.5637\n",
            "Epoch 9/10\n",
            "213/213 [==============================] - 89s 418ms/step - loss: 0.4892 - accuracy: 0.8250 - val_loss: 0.7678 - val_accuracy: 0.7193\n",
            "Epoch 10/10\n",
            "213/213 [==============================] - 89s 417ms/step - loss: 0.4831 - accuracy: 0.8293 - val_loss: 0.9829 - val_accuracy: 0.7170\n"
          ],
          "name": "stdout"
        }
      ]
    },
    {
      "cell_type": "code",
      "metadata": {
        "id": "BC6zLnQ9HSGq"
      },
      "source": [
        "def plot_accuracy(history,title):\n",
        "    plt.title(title)\n",
        "    plt.plot(history.history['accuracy'])\n",
        "    plt.plot(history.history['val_accuracy'])\n",
        "    plt.ylabel('accuracy')\n",
        "    plt.xlabel('epoch')\n",
        "    plt.legend(['train_accuracy', 'validation_accuracy'], loc='best')\n",
        "    plt.show()\n",
        "def plot_loss(history,title):\n",
        "    plt.title(title)\n",
        "    plt.plot(history.history['loss'])\n",
        "    plt.plot(history.history['val_loss'])\n",
        "    plt.ylabel('loss')\n",
        "    plt.xlabel('epoch')\n",
        "    plt.legend(['train_loss', 'validation_loss'], loc='best')\n",
        "    plt.show()\n"
      ],
      "execution_count": null,
      "outputs": []
    },
    {
      "cell_type": "code",
      "metadata": {
        "colab": {
          "base_uri": "https://localhost:8080/",
          "height": 573
        },
        "id": "GxZ3AM48Ij7-",
        "outputId": "10bdeb8a-b91a-4cb8-92b1-3cc91134e309"
      },
      "source": [
        "plot_accuracy(history,'RESNET')\n",
        "plot_loss(history,'RESNET')"
      ],
      "execution_count": null,
      "outputs": [
        {
          "output_type": "display_data",
          "data": {
            "image/png": "[encoded data removed]",
            "text/plain": [
              "<Figure size 432x288 with 1 Axes>"
            ]
          },
          "metadata": {
            "tags": [],
            "needs_background": "light"
          }
        },
        {
          "output_type": "display_data",
          "data": {
            "image/png": "[encoded data removed]",
            "text/plain": [
              "<Figure size 432x288 with 1 Axes>"
            ]
          },
          "metadata": {
            "tags": [],
            "needs_background": "light"
          }
        }
      ]
    },
    {
      "cell_type": "markdown",
      "metadata": {
        "id": "5rCcjMnoLUpB"
      },
      "source": []
    },
    {
      "cell_type": "code",
      "metadata": {
        "id": "GXvHEAXxixd-",
        "colab": {
          "base_uri": "https://localhost:8080/"
        },
        "outputId": "512aa65a-a356-4c53-9ec1-13e98d7d7c12"
      },
      "source": [
        "evaluate = model.evaluate_generator(test_generator, steps = test_generator.n//1, verbose = 1)"
      ],
      "execution_count": null,
      "outputs": [
        {
          "output_type": "stream",
          "text": [
            "/usr/local/lib/python3.7/dist-packages/tensorflow/python/keras/engine/training.py:1877: UserWarning: `Model.evaluate_generator` is deprecated and will be removed in a future version. Please use `Model.evaluate`, which supports generators.\n",
            "  warnings.warn('`Model.evaluate_generator` is deprecated and '\n"
          ],
          "name": "stderr"
        },
        {
          "output_type": "stream",
          "text": [
            "406/406 [==============================] - 95s 232ms/step - loss: 1.0605 - accuracy: 0.7069\n"
          ],
          "name": "stdout"
        }
      ]
    },
    {
      "cell_type": "code",
      "metadata": {
        "id": "BD8LVXJ5j2al"
      },
      "source": [],
      "execution_count": null,
      "outputs": []
    },
    {
      "cell_type": "code",
      "metadata": {
        "id": "IrEZczT5lfbI"
      },
      "source": [],
      "execution_count": null,
      "outputs": []
    },
    {
      "cell_type": "code",
      "metadata": {
        "id": "s9W7jnj3grJW"
      },
      "source": [],
      "execution_count": null,
      "outputs": []
    },
    {
      "cell_type": "code",
      "metadata": {
        "id": "d52Dwcqm03vP"
      },
      "source": [],
      "execution_count": null,
      "outputs": []
    },
    {
      "cell_type": "code",
      "metadata": {
        "id": "a8fet0mNkA8P"
      },
      "source": [],
      "execution_count": null,
      "outputs": []
    },
    {
      "cell_type": "code",
      "metadata": {
        "id": "4FHGSI1B2XPS"
      },
      "source": [],
      "execution_count": null,
      "outputs": []
    }
  ]
}