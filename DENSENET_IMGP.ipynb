{
  "nbformat": 4,
  "nbformat_minor": 0,
  "metadata": {
    "accelerator": "GPU",
    "colab": {
      "provenance": [],
      "collapsed_sections": []
    },
    "kernelspec": {
      "display_name": "Python 3",
      "name": "python3"
    },
    "language_info": {
      "name": "python"
    }
  },
  "cells": [
    {
      "cell_type": "code",
      "metadata": {
        "colab": {
          "base_uri": "https://localhost:8080/"
        },
        "id": "MddVRFWQ3L-e",
        "outputId": "2870ebe1-d02b-48f3-bd5d-b875ecce2d69"
      },
      "source": [
        "from google.colab import drive\n",
        "drive.mount('/content/drive')"
      ],
      "execution_count": null,
      "outputs": [
        {
          "output_type": "stream",
          "text": [
            "Drive already mounted at /content/drive; to attempt to forcibly remount, call drive.mount(\"/content/drive\", force_remount=True).\n"
          ],
          "name": "stdout"
        }
      ]
    },
    {
      "cell_type": "code",
      "metadata": {
        "id": "gC_BdL0QG78m"
      },
      "source": [
        "import numpy as np\n",
        "import pandas as pd\n",
        "import matplotlib.pyplot as plt\n",
        "%matplotlib inline \n",
        "import cv2\n",
        "import os\n",
        "from tensorflow.python.keras.callbacks import EarlyStopping, ModelCheckpoint\n"
      ],
      "execution_count": null,
      "outputs": []
    },
    {
      "cell_type": "code",
      "metadata": {
        "id": "BlJe_GSgokd1"
      },
      "source": [
        "import matplotlib.image as img\n",
        "from collections import defaultdict\n",
        "import collections\n",
        "from shutil import copy\n",
        "from shutil import copytree, rmtree\n",
        "import tensorflow.keras.backend as K\n",
        "from tensorflow.keras.models import load_model\n",
        "from tensorflow.keras.preprocessing import image\n",
        "import matplotlib.pyplot as plt\n",
        "import random\n",
        "import tensorflow as tf\n",
        "import tensorflow.keras.backend as K\n",
        "from tensorflow.keras import regularizers\n",
        "from tensorflow.keras.applications.inception_v3 import InceptionV3\n",
        "from tensorflow.keras.models import Sequential, Model\n",
        "from tensorflow.keras.layers import Dense, Dropout, Activation, Flatten\n",
        "from tensorflow.keras.layers import Convolution2D, MaxPooling2D, ZeroPadding2D, GlobalAveragePooling2D, AveragePooling2D\n",
        "from tensorflow.keras.preprocessing.image import ImageDataGenerator\n",
        "from tensorflow.keras.callbacks import ModelCheckpoint, CSVLogger\n",
        "from tensorflow.keras.optimizers import SGD\n",
        "from tensorflow.keras.regularizers import l2\n",
        "from tensorflow import keras\n",
        "from tensorflow.keras import models\n"
      ],
      "execution_count": null,
      "outputs": []
    },
    {
      "cell_type": "code",
      "metadata": {
        "id": "lnVNB0LFHAzG"
      },
      "source": [
        "NUM_CLASSES = 4\n",
        "IMAGE_RESIZE = 256\n",
        "RESNET50_POOLING_AVERAGE = 'avg'\n",
        "DENSE_LAYER_ACTIVATION = 'softmax'\n",
        "OBJECTIVE_FUNCTION = 'categorical_crossentropy'\n",
        "\n",
        "# Common accuracy metric for all outputs, but can use different metrics for different output\n",
        "LOSS_METRICS = ['accuracy']\n",
        "\n",
        "# EARLY_STOP_PATIENCE must be < NUM_EPOCHS\n",
        "NUM_EPOCHS = 15\n",
        "EARLY_STOP_PATIENCE = 10\n",
        "\n",
        "# These steps value should be proper FACTOR of no.-of-images in train & valid folders respectively\n",
        "# NOTE that these BATCH* are for Keras ImageDataGenerator batching to fill epoch step input\n",
        "BATCH_SIZE_TRAINING = 16\n",
        "BATCH_SIZE_VALIDATION = 16\n",
        "\n",
        "# Using 1 to easily manage mapping between test_generator & prediction for submission preparation\n",
        "BATCH_SIZE_TESTING = 1"
      ],
      "execution_count": null,
      "outputs": []
    },
    {
      "cell_type": "code",
      "metadata": {
        "colab": {
          "base_uri": "https://localhost:8080/"
        },
        "id": "RPp8Vl-_HPAM",
        "outputId": "1ee2b0d3-6667-48ce-cb88-432fdfff0701"
      },
      "source": [
        "### \n",
        "### Below systax is available with TensorFlow 1.11 onwards but this upgrade is not available for Kaggle kernel yet\n",
        "###\n",
        "import tensorflow as tf\n",
        "print(tf.__version__)\n",
        "import tensorflow as tf\n",
        "from tensorflow.keras.applications import DenseNet201\n",
        "from tensorflow.keras.models import Sequential\n",
        "from tensorflow.python.keras.layers import Dense"
      ],
      "execution_count": null,
      "outputs": [
        {
          "output_type": "stream",
          "text": [
            "2.4.1\n"
          ],
          "name": "stdout"
        }
      ]
    },
    {
      "cell_type": "code",
      "metadata": {
        "colab": {
          "base_uri": "https://localhost:8080/"
        },
        "id": "5qT9bbyyJD6u",
        "outputId": "d39c4ecc-4898-4ef5-e888-f6fca094eb67"
      },
      "source": [
        "from keras.applications.densenet import preprocess_input\n",
        "from keras.preprocessing.image import ImageDataGenerator\n",
        "\n",
        "image_size = 256\n",
        "\n",
        "# preprocessing_function is applied on each image but only after re-sizing & augmentation (resize => augment => pre-process)\n",
        "# Each of the keras.application.resnet* preprocess_input MOSTLY mean BATCH NORMALIZATION (applied on each batch) stabilize the inputs to nonlinear activation functions\n",
        "# Batch Normalization helps in faster convergence\n",
        "\n",
        "data_generator = ImageDataGenerator(rescale = 1./255,\n",
        "                                    validation_split = 0.2,\n",
        "                                  preprocessing_function=preprocess_input)\n",
        "\n",
        "\n",
        "# flow_From_directory generates batches of augmented data (where augmentation can be color conversion, etc)\n",
        "# Both train & valid folders must have NUM_CLASSES sub-folders\n",
        "\n",
        "train_generator = data_generator.flow_from_directory(\n",
        "        directory= 'drive/MyDrive/Modified Images Part 4',\n",
        "        shuffle = True,\n",
        "        target_size=(image_size, image_size),\n",
        "        batch_size=BATCH_SIZE_TRAINING,\n",
        "        class_mode ='categorical',\n",
        "        subset = \"training\")\n",
        "\n",
        "validation_generator = data_generator.flow_from_directory(\n",
        "        directory= 'drive/MyDrive/Modified Images Part 4',\n",
        "        shuffle = True,\n",
        "        target_size=(image_size, image_size),\n",
        "        batch_size=BATCH_SIZE_VALIDATION,\n",
        "        class_mode='categorical',\n",
        "        subset= 'validation') \n",
        "\n",
        "\n",
        "\n"
      ],
      "execution_count": null,
      "outputs": [
        {
          "output_type": "stream",
          "text": [
            "Found 3415 images belonging to 4 classes.\n",
            "Found 850 images belonging to 4 classes.\n"
          ],
          "name": "stdout"
        }
      ]
    },
    {
      "cell_type": "code",
      "metadata": {
        "colab": {
          "base_uri": "https://localhost:8080/"
        },
        "id": "vbZpWAXOCaKm",
        "outputId": "50ba9cc1-854c-491b-e502-2f79ae71eb68"
      },
      "source": [
        "test_generator = data_generator.flow_from_directory(\n",
        "        directory= 'drive/MyDrive/DOP_test',\n",
        "        shuffle = False,\n",
        "        target_size=(image_size, image_size),\n",
        "        batch_size=1,\n",
        "        class_mode ='categorical'\n",
        "        )\n",
        "\n"
      ],
      "execution_count": null,
      "outputs": [
        {
          "output_type": "stream",
          "text": [
            "Found 234 images belonging to 4 classes.\n"
          ],
          "name": "stdout"
        }
      ]
    },
    {
      "cell_type": "code",
      "metadata": {
        "id": "YjmAxhg4BksR"
      },
      "source": [
        "\n",
        "#from tensorflow.keras.applications.resnet50 import ResNet50\n",
        "from tensorflow.keras.models import Model\n",
        "import keras\n",
        "densenet = DenseNet201(include_top=False, weights='imagenet', input_shape=(256,256,3))\n",
        "output = densenet.layers[-1].output\n",
        "output = keras.layers.Flatten()(output)\n",
        "densenet = Model(densenet.input, output)\n",
        "for layer in densenet.layers:\n",
        "    layer.trainable = False\n",
        "densenet.summary()"
      ],
      "execution_count": null,
      "outputs": []
    },
    {
      "cell_type": "code",
      "metadata": {
        "id": "CG1jCDPFCzy8"
      },
      "source": [
        "from keras.layers import Conv2D, MaxPooling2D, Flatten, Dense, Dropout, InputLayer\n",
        "from keras.models import Sequential\n",
        "from keras import optimizers\n",
        "# # we use SGD with a low learning rate\n",
        "from tensorflow.keras.optimizers import Nadam\n",
        "from tensorflow.keras.optimizers import Adam\n",
        "model = Sequential()\n",
        "model.add(densenet)\n",
        "model.add(Dense(256, activation='relu', kernel_regularizer=regularizers.l2(0.001), input_dim=256))\n",
        "model.add(Dropout(0.5))\n",
        "model.add(Dense(4, activation='softmax'))\n",
        "model.compile(optimizer=Nadam(lr=0.0001), loss='categorical_crossentropy',metrics=['accuracy'])\n",
        "model.summary()\n"
      ],
      "execution_count": null,
      "outputs": []
    },
    {
      "cell_type": "code",
      "metadata": {
        "id": "hReNgm2mC_Gt"
      },
      "source": [
        "\n",
        "history = model.fit_generator(train_generator,\n",
        "                    steps_per_epoch = train_generator.n// 16,\n",
        "                    validation_data=validation_generator,\n",
        "                    validation_steps=validation_generator.n // 16,\n",
        "                    epochs=50)"
      ],
      "execution_count": null,
      "outputs": []
    },
    {
      "cell_type": "code",
      "metadata": {
        "colab": {
          "base_uri": "https://localhost:8080/"
        },
        "id": "FBc7NulEn6Xb",
        "outputId": "ce343174-4ff3-4465-f356-2010b3a3237d"
      },
      "source": [
        "'''resnet = DenseNet201(weights='imagenet', include_top=False)\n",
        "x = resnet.output\n",
        "x = GlobalAveragePooling2D()(x)\n",
        "x = Dense(256,kernel_regularizer=regularizers.l2(0.001),activation='relu')(x)\n",
        "x = Dropout(0.5)(x)\n",
        "\n",
        "predictions = Dense(4, activation='softmax')(x)\n",
        "\n",
        "model = Model(inputs=resnet.input, outputs=predictions)\n",
        "\n",
        "# # we use SGD with a low learning rate\n",
        "from keras.optimizers import Nadam\n",
        "from keras.optimizers import Adam\n",
        "model.compile(optimizer=Nadam(lr=0.0001), loss='categorical_crossentropy',metrics=['accuracy'])\n",
        "\n",
        "history = model.fit_generator(train_generator,\n",
        "                    steps_per_epoch = train_generator.n// 16,\n",
        "                    validation_data=validation_generator,\n",
        "                    validation_steps=validation_generator.n // 16,\n",
        "                    epochs=50\n",
        "                    )\n",
        "\n",
        "model.save('model_trained_3class.hdf5')'''"
      ],
      "execution_count": null,
      "outputs": [
        {
          "output_type": "stream",
          "text": [
            "/usr/local/lib/python3.7/dist-packages/tensorflow/python/keras/engine/training.py:1844: UserWarning: `Model.fit_generator` is deprecated and will be removed in a future version. Please use `Model.fit`, which supports generators.\n",
            "  warnings.warn('`Model.fit_generator` is deprecated and '\n"
          ],
          "name": "stderr"
        },
        {
          "output_type": "stream",
          "text": [
            "Epoch 1/50\n",
            "213/213 [==============================] - 172s 525ms/step - loss: 0.9804 - accuracy: 0.7634 - val_loss: 2.0939 - val_accuracy: 0.3998\n",
            "Epoch 2/50\n",
            "213/213 [==============================] - 104s 486ms/step - loss: 0.3930 - accuracy: 0.9433 - val_loss: 4.0394 - val_accuracy: 0.1108\n",
            "Epoch 3/50\n",
            "213/213 [==============================] - 104s 486ms/step - loss: 0.2875 - accuracy: 0.9688 - val_loss: 2.3624 - val_accuracy: 0.3078\n",
            "Epoch 4/50\n",
            "213/213 [==============================] - 103s 485ms/step - loss: 0.2307 - accuracy: 0.9817 - val_loss: 1.1109 - val_accuracy: 0.7335\n",
            "Epoch 5/50\n",
            "213/213 [==============================] - 103s 485ms/step - loss: 0.2372 - accuracy: 0.9828 - val_loss: 0.8972 - val_accuracy: 0.7759\n",
            "Epoch 6/50\n",
            "213/213 [==============================] - 103s 484ms/step - loss: 0.1891 - accuracy: 0.9937 - val_loss: 0.6561 - val_accuracy: 0.8844\n",
            "Epoch 7/50\n",
            "213/213 [==============================] - 103s 484ms/step - loss: 0.1918 - accuracy: 0.9868 - val_loss: 0.5126 - val_accuracy: 0.9198\n",
            "Epoch 8/50\n",
            "213/213 [==============================] - 103s 485ms/step - loss: 0.1866 - accuracy: 0.9867 - val_loss: 0.7602 - val_accuracy: 0.8844\n",
            "Epoch 9/50\n",
            "213/213 [==============================] - 103s 485ms/step - loss: 0.1691 - accuracy: 0.9927 - val_loss: 0.9912 - val_accuracy: 0.8302\n",
            "Epoch 10/50\n",
            "213/213 [==============================] - 103s 485ms/step - loss: 0.1637 - accuracy: 0.9907 - val_loss: 0.4989 - val_accuracy: 0.9009\n",
            "Epoch 11/50\n",
            "213/213 [==============================] - 103s 484ms/step - loss: 0.1677 - accuracy: 0.9881 - val_loss: 0.4729 - val_accuracy: 0.9375\n",
            "Epoch 12/50\n",
            "213/213 [==============================] - 104s 486ms/step - loss: 0.1478 - accuracy: 0.9927 - val_loss: 0.4697 - val_accuracy: 0.9045\n",
            "Epoch 13/50\n",
            "213/213 [==============================] - 103s 485ms/step - loss: 0.1496 - accuracy: 0.9892 - val_loss: 0.5221 - val_accuracy: 0.9198\n",
            "Epoch 14/50\n",
            "213/213 [==============================] - 103s 485ms/step - loss: 0.1211 - accuracy: 0.9987 - val_loss: 0.4158 - val_accuracy: 0.9292\n",
            "Epoch 15/50\n",
            "213/213 [==============================] - 103s 484ms/step - loss: 0.1187 - accuracy: 0.9960 - val_loss: 0.4398 - val_accuracy: 0.9198\n",
            "Epoch 16/50\n",
            "213/213 [==============================] - 103s 485ms/step - loss: 0.1228 - accuracy: 0.9942 - val_loss: 0.6823 - val_accuracy: 0.8738\n",
            "Epoch 17/50\n",
            "213/213 [==============================] - 103s 484ms/step - loss: 0.1335 - accuracy: 0.9885 - val_loss: 0.7560 - val_accuracy: 0.8585\n",
            "Epoch 18/50\n",
            "213/213 [==============================] - 103s 484ms/step - loss: 0.1247 - accuracy: 0.9874 - val_loss: 0.5142 - val_accuracy: 0.8950\n",
            "Epoch 19/50\n",
            "213/213 [==============================] - 103s 483ms/step - loss: 0.1003 - accuracy: 0.9978 - val_loss: 0.4764 - val_accuracy: 0.9198\n",
            "Epoch 20/50\n",
            "213/213 [==============================] - 103s 485ms/step - loss: 0.0946 - accuracy: 0.9967 - val_loss: 0.5110 - val_accuracy: 0.9257\n",
            "Epoch 21/50\n",
            "213/213 [==============================] - 103s 484ms/step - loss: 0.0852 - accuracy: 0.9998 - val_loss: 0.7578 - val_accuracy: 0.8314\n",
            "Epoch 22/50\n",
            "213/213 [==============================] - 103s 484ms/step - loss: 0.0999 - accuracy: 0.9953 - val_loss: 0.4752 - val_accuracy: 0.9245\n",
            "Epoch 23/50\n",
            "213/213 [==============================] - 104s 486ms/step - loss: 0.1535 - accuracy: 0.9727 - val_loss: 0.4299 - val_accuracy: 0.9175\n",
            "Epoch 24/50\n",
            "213/213 [==============================] - 103s 484ms/step - loss: 0.0877 - accuracy: 0.9933 - val_loss: 0.4731 - val_accuracy: 0.9092\n",
            "Epoch 25/50\n",
            "213/213 [==============================] - 103s 484ms/step - loss: 0.0816 - accuracy: 0.9969 - val_loss: 0.4140 - val_accuracy: 0.9186\n",
            "Epoch 26/50\n",
            "213/213 [==============================] - 103s 485ms/step - loss: 0.0764 - accuracy: 0.9975 - val_loss: 0.4163 - val_accuracy: 0.9292\n",
            "Epoch 27/50\n",
            "213/213 [==============================] - 103s 484ms/step - loss: 0.0833 - accuracy: 0.9948 - val_loss: 0.4004 - val_accuracy: 0.9316\n",
            "Epoch 28/50\n",
            "213/213 [==============================] - 103s 485ms/step - loss: 0.0653 - accuracy: 0.9990 - val_loss: 0.4645 - val_accuracy: 0.9269\n",
            "Epoch 29/50\n",
            "213/213 [==============================] - 103s 485ms/step - loss: 0.0678 - accuracy: 0.9957 - val_loss: 0.4198 - val_accuracy: 0.9351\n",
            "Epoch 30/50\n",
            "213/213 [==============================] - 103s 485ms/step - loss: 0.0585 - accuracy: 0.9993 - val_loss: 0.5326 - val_accuracy: 0.9116\n",
            "Epoch 31/50\n",
            "213/213 [==============================] - 103s 485ms/step - loss: 0.0536 - accuracy: 1.0000 - val_loss: 0.3568 - val_accuracy: 0.9399\n",
            "Epoch 32/50\n",
            "213/213 [==============================] - 103s 484ms/step - loss: 0.0497 - accuracy: 0.9996 - val_loss: 0.5523 - val_accuracy: 0.9080\n",
            "Epoch 33/50\n",
            "213/213 [==============================] - 103s 484ms/step - loss: 0.0519 - accuracy: 0.9968 - val_loss: 0.3955 - val_accuracy: 0.9375\n",
            "Epoch 34/50\n",
            "213/213 [==============================] - 103s 485ms/step - loss: 0.0441 - accuracy: 0.9996 - val_loss: 0.4428 - val_accuracy: 0.9316\n",
            "Epoch 35/50\n",
            "213/213 [==============================] - 103s 485ms/step - loss: 0.0404 - accuracy: 0.9999 - val_loss: 0.4622 - val_accuracy: 0.9351\n",
            "Epoch 36/50\n",
            "213/213 [==============================] - 103s 484ms/step - loss: 0.0400 - accuracy: 0.9993 - val_loss: 0.6243 - val_accuracy: 0.9151\n",
            "Epoch 37/50\n",
            "213/213 [==============================] - 103s 485ms/step - loss: 0.0758 - accuracy: 0.9871 - val_loss: 0.5728 - val_accuracy: 0.9139\n",
            "Epoch 38/50\n",
            "213/213 [==============================] - 104s 486ms/step - loss: 0.0813 - accuracy: 0.9819 - val_loss: 0.5113 - val_accuracy: 0.9009\n",
            "Epoch 39/50\n",
            "213/213 [==============================] - 103s 484ms/step - loss: 0.0467 - accuracy: 0.9963 - val_loss: 0.4299 - val_accuracy: 0.9210\n",
            "Epoch 40/50\n",
            "213/213 [==============================] - 103s 484ms/step - loss: 0.0392 - accuracy: 0.9974 - val_loss: 0.5420 - val_accuracy: 0.8998\n",
            "Epoch 41/50\n",
            "213/213 [==============================] - 103s 485ms/step - loss: 0.0476 - accuracy: 0.9943 - val_loss: 0.4295 - val_accuracy: 0.9068\n",
            "Epoch 42/50\n",
            "213/213 [==============================] - 103s 485ms/step - loss: 0.0650 - accuracy: 0.9894 - val_loss: 0.3469 - val_accuracy: 0.9139\n",
            "Epoch 43/50\n",
            "213/213 [==============================] - 104s 486ms/step - loss: 0.0361 - accuracy: 0.9983 - val_loss: 0.3769 - val_accuracy: 0.9375\n",
            "Epoch 44/50\n",
            "213/213 [==============================] - 103s 485ms/step - loss: 0.0284 - accuracy: 0.9995 - val_loss: 0.6742 - val_accuracy: 0.9139\n",
            "Epoch 45/50\n",
            "213/213 [==============================] - 103s 484ms/step - loss: 0.0471 - accuracy: 0.9914 - val_loss: 0.3678 - val_accuracy: 0.9328\n",
            "Epoch 46/50\n",
            "213/213 [==============================] - 103s 484ms/step - loss: 0.0292 - accuracy: 0.9977 - val_loss: 0.3734 - val_accuracy: 0.9387\n",
            "Epoch 47/50\n",
            "213/213 [==============================] - 103s 485ms/step - loss: 0.0433 - accuracy: 0.9944 - val_loss: 0.4420 - val_accuracy: 0.9139\n",
            "Epoch 48/50\n",
            "213/213 [==============================] - 104s 486ms/step - loss: 0.0279 - accuracy: 0.9983 - val_loss: 0.3725 - val_accuracy: 0.9481\n",
            "Epoch 49/50\n",
            "213/213 [==============================] - 104s 487ms/step - loss: 0.0255 - accuracy: 0.9983 - val_loss: 0.3641 - val_accuracy: 0.9399\n",
            "Epoch 50/50\n",
            "213/213 [==============================] - 104s 489ms/step - loss: 0.0224 - accuracy: 0.9997 - val_loss: 0.3838 - val_accuracy: 0.9351\n"
          ],
          "name": "stdout"
        }
      ]
    },
    {
      "cell_type": "code",
      "metadata": {
        "id": "BC6zLnQ9HSGq"
      },
      "source": [
        "def plot_accuracy(history,title):\n",
        "    plt.title(title)\n",
        "    plt.plot(history.history['accuracy'])\n",
        "    plt.plot(history.history['val_accuracy'])\n",
        "    plt.ylabel('accuracy')\n",
        "    plt.xlabel('epoch')\n",
        "    plt.legend(['train_accuracy', 'validation_accuracy'], loc='best')\n",
        "    plt.show()\n",
        "def plot_loss(history,title):\n",
        "    plt.title(title)\n",
        "    plt.plot(history.history['loss'])\n",
        "    plt.plot(history.history['val_loss'])\n",
        "    plt.ylabel('loss')\n",
        "    plt.xlabel('epoch')\n",
        "    plt.legend(['train_loss', 'validation_loss'], loc='best')\n",
        "    plt.show()\n"
      ],
      "execution_count": null,
      "outputs": []
    },
    {
      "cell_type": "code",
      "metadata": {
        "id": "GxZ3AM48Ij7-",
        "colab": {
          "base_uri": "https://localhost:8080/",
          "height": 573
        },
        "outputId": "52239103-cbcc-4189-a30c-278a9fbee13f"
      },
      "source": [
        "plot_accuracy(history,'DENSENET')\n",
        "plot_loss(history,'DENSENET')"
      ],
      "execution_count": null,
      "outputs": [
        {
          "output_type": "display_data",
          "data": {
            "image/png": "[encoded data removed]",
            "text/plain": [
              "<Figure size 432x288 with 1 Axes>"
            ]
          },
          "metadata": {
            "tags": [],
            "needs_background": "light"
          }
        },
        {
          "output_type": "display_data",
          "data": {
            "image/png": "[encoded data removed]",
            "text/plain": [
              "<Figure size 432x288 with 1 Axes>"
            ]
          },
          "metadata": {
            "tags": [],
            "needs_background": "light"
          }
        }
      ]
    },
    {
      "cell_type": "code",
      "metadata": {
        "id": "GXvHEAXxixd-",
        "colab": {
          "base_uri": "https://localhost:8080/"
        },
        "outputId": "ae625490-2ff2-4628-9e26-65d9bcb96934"
      },
      "source": [
        "evaluate = model.evaluate_generator(test_generator, steps = test_generator.n//1, verbose = 1)"
      ],
      "execution_count": null,
      "outputs": [
        {
          "output_type": "stream",
          "text": [
            "/usr/local/lib/python3.7/dist-packages/tensorflow/python/keras/engine/training.py:1877: UserWarning: `Model.evaluate_generator` is deprecated and will be removed in a future version. Please use `Model.evaluate`, which supports generators.\n",
            "  warnings.warn('`Model.evaluate_generator` is deprecated and '\n"
          ],
          "name": "stderr"
        },
        {
          "output_type": "stream",
          "text": [
            "234/234 [==============================] - 107s 453ms/step - loss: 1.1768 - accuracy: 0.7137\n"
          ],
          "name": "stdout"
        }
      ]
    }
  ]
}