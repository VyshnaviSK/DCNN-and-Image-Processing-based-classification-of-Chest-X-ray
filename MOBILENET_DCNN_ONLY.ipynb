{
  "nbformat": 4,
  "nbformat_minor": 0,
  "metadata": {
    "colab": {
      "provenance": [],
      "collapsed_sections": []
    },
    "kernelspec": {
      "display_name": "Python 3",
      "name": "python3"
    },
    "language_info": {
      "name": "python"
    }
  },
  "cells": [
    {
      "cell_type": "code",
      "metadata": {
        "colab": {
          "base_uri": "https://localhost:8080/"
        },
        "id": "MddVRFWQ3L-e",
        "outputId": "ded82a4c-dd51-46ef-b809-a3f24f9b0da8"
      },
      "source": [
        "from google.colab import drive\n",
        "drive.mount('/content/drive')"
      ],
      "execution_count": null,
      "outputs": [
        {
          "output_type": "stream",
          "text": [
            "Mounted at /content/drive\n"
          ],
          "name": "stdout"
        }
      ]
    },
    {
      "cell_type": "code",
      "metadata": {
        "id": "gC_BdL0QG78m"
      },
      "source": [
        "import numpy as np\n",
        "import pandas as pd\n",
        "import matplotlib.pyplot as plt\n",
        "%matplotlib inline \n",
        "import cv2\n",
        "import os\n",
        "from tensorflow.python.keras.callbacks import EarlyStopping, ModelCheckpoint\n"
      ],
      "execution_count": null,
      "outputs": []
    },
    {
      "cell_type": "code",
      "metadata": {
        "id": "BlJe_GSgokd1"
      },
      "source": [
        "import matplotlib.image as img\n",
        "from collections import defaultdict\n",
        "import collections\n",
        "from shutil import copy\n",
        "from shutil import copytree, rmtree\n",
        "import tensorflow.keras.backend as K\n",
        "from tensorflow.keras.models import load_model\n",
        "from tensorflow.keras.preprocessing import image\n",
        "import matplotlib.pyplot as plt\n",
        "import random\n",
        "import tensorflow as tf\n",
        "import tensorflow.keras.backend as K\n",
        "from tensorflow.keras import regularizers\n",
        "from tensorflow.keras.applications.inception_v3 import InceptionV3\n",
        "from tensorflow.keras.models import Sequential, Model\n",
        "from tensorflow.keras.layers import Dense, Dropout, Activation, Flatten\n",
        "from tensorflow.keras.layers import Convolution2D, MaxPooling2D, ZeroPadding2D, GlobalAveragePooling2D, AveragePooling2D\n",
        "from tensorflow.keras.preprocessing.image import ImageDataGenerator\n",
        "from tensorflow.keras.callbacks import ModelCheckpoint, CSVLogger\n",
        "from tensorflow.keras.optimizers import SGD\n",
        "from tensorflow.keras.regularizers import l2\n",
        "from tensorflow import keras\n",
        "from tensorflow.keras import models\n"
      ],
      "execution_count": null,
      "outputs": []
    },
    {
      "cell_type": "code",
      "metadata": {
        "id": "lnVNB0LFHAzG"
      },
      "source": [
        "NUM_CLASSES = 4\n",
        "IMAGE_RESIZE = 224\n",
        "RESNET50_POOLING_AVERAGE = 'avg'\n",
        "DENSE_LAYER_ACTIVATION = 'softmax'\n",
        "OBJECTIVE_FUNCTION = 'categorical_crossentropy'\n",
        "\n",
        "# Common accuracy metric for all outputs, but can use different metrics for different output\n",
        "LOSS_METRICS = ['accuracy']\n",
        "\n",
        "# EARLY_STOP_PATIENCE must be < NUM_EPOCHS\n",
        "NUM_EPOCHS = 15\n",
        "EARLY_STOP_PATIENCE = 10\n",
        "\n",
        "# These steps value should be proper FACTOR of no.-of-images in train & valid folders respectively\n",
        "# NOTE that these BATCH* are for Keras ImageDataGenerator batching to fill epoch step input\n",
        "BATCH_SIZE_TRAINING = 16\n",
        "BATCH_SIZE_VALIDATION = 16\n",
        "\n",
        "# Using 1 to easily manage mapping between test_generator & prediction for submission preparation\n",
        "BATCH_SIZE_TESTING = 1"
      ],
      "execution_count": null,
      "outputs": []
    },
    {
      "cell_type": "code",
      "metadata": {
        "colab": {
          "base_uri": "https://localhost:8080/"
        },
        "id": "RPp8Vl-_HPAM",
        "outputId": "7360c73f-fe27-4631-dcc7-86173060041a"
      },
      "source": [
        "### \n",
        "### Below systax is available with TensorFlow 1.11 onwards but this upgrade is not available for Kaggle kernel yet\n",
        "###\n",
        "import tensorflow as tf\n",
        "print(tf.__version__)\n",
        "import tensorflow as tf\n",
        "from tensorflow.keras.applications import MobileNet\n",
        "from tensorflow.keras.models import Sequential\n",
        "from tensorflow.python.keras.layers import Dense"
      ],
      "execution_count": null,
      "outputs": [
        {
          "output_type": "stream",
          "text": [
            "2.4.1\n"
          ],
          "name": "stdout"
        }
      ]
    },
    {
      "cell_type": "code",
      "metadata": {
        "colab": {
          "base_uri": "https://localhost:8080/"
        },
        "id": "5qT9bbyyJD6u",
        "outputId": "2f122550-c386-4270-a594-502506e7b94f"
      },
      "source": [
        "from keras.applications.mobilenet import preprocess_input\n",
        "from keras.preprocessing.image import ImageDataGenerator\n",
        "\n",
        "image_size = 256\n",
        "\n",
        "# preprocessing_function is applied on each image but only after re-sizing & augmentation (resize => augment => pre-process)\n",
        "# Each of the keras.application.resnet* preprocess_input MOSTLY mean BATCH NORMALIZATION (applied on each batch) stabilize the inputs to nonlinear activation functions\n",
        "# Batch Normalization helps in faster convergence\n",
        "\n",
        "data_generator = ImageDataGenerator(rescale = 1./255,\n",
        "                                    validation_split = 0.2,\n",
        "                                  preprocessing_function=preprocess_input)\n",
        "\n",
        "\n",
        "# flow_From_directory generates batches of augmented data (where augmentation can be color conversion, etc)\n",
        "# Both train & valid folders must have NUM_CLASSES sub-folders\n",
        "\n",
        "train_generator = data_generator.flow_from_directory(\n",
        "        directory= 'drive/MyDrive/DOPTRAIN',\n",
        "        shuffle = True,\n",
        "        target_size=(image_size, image_size),\n",
        "        batch_size=BATCH_SIZE_TRAINING,\n",
        "        class_mode ='categorical',\n",
        "        subset = \"training\")\n",
        "\n",
        "validation_generator = data_generator.flow_from_directory(\n",
        "        directory= 'drive/MyDrive/DOPTRAIN',\n",
        "        shuffle = True,\n",
        "        target_size=(image_size, image_size),\n",
        "        batch_size=BATCH_SIZE_VALIDATION,\n",
        "        class_mode='categorical',\n",
        "        subset= 'validation') \n",
        "\n",
        "\n",
        "\n"
      ],
      "execution_count": null,
      "outputs": [
        {
          "output_type": "stream",
          "text": [
            "Found 3415 images belonging to 4 classes.\n",
            "Found 850 images belonging to 4 classes.\n"
          ],
          "name": "stdout"
        }
      ]
    },
    {
      "cell_type": "code",
      "metadata": {
        "colab": {
          "base_uri": "https://localhost:8080/"
        },
        "id": "vbZpWAXOCaKm",
        "outputId": "ad1644b2-14d1-4c22-b201-7b9e3daa50ea"
      },
      "source": [
        "test_generator = data_generator.flow_from_directory(\n",
        "        directory= 'drive/MyDrive/four_classes/test',\n",
        "        shuffle = False,\n",
        "        target_size=(image_size, image_size),\n",
        "        batch_size=1,\n",
        "        class_mode ='categorical'\n",
        "        )\n",
        "\n"
      ],
      "execution_count": null,
      "outputs": [
        {
          "output_type": "stream",
          "text": [
            "Found 241 images belonging to 4 classes.\n"
          ],
          "name": "stdout"
        }
      ]
    },
    {
      "cell_type": "code",
      "metadata": {
        "id": "wUnIHbBYFz9e"
      },
      "source": [
        "#from tensorflow.keras.applications.resnet50 import ResNet50\n",
        "from tensorflow.keras.models import Model\n",
        "import keras\n",
        "mobnet = MobileNet(include_top=False, weights='imagenet', input_shape=(256,256,3))\n",
        "output = mobnet.layers[-1].output\n",
        "output = keras.layers.Flatten()(output)\n",
        "mobnet = Model(mobnet.input, output)\n",
        "for layer in mobnet.layers:\n",
        "    layer.trainable = False\n",
        "mobnet.summary()"
      ],
      "execution_count": null,
      "outputs": []
    },
    {
      "cell_type": "code",
      "metadata": {
        "id": "BonPtYgEF1bd"
      },
      "source": [
        "from keras.layers import Conv2D, MaxPooling2D, Flatten, Dense, Dropout, InputLayer\n",
        "from keras.models import Sequential\n",
        "from keras import optimizers\n",
        "# # we use SGD with a low learning rate\n",
        "from tensorflow.keras.optimizers import Nadam\n",
        "from tensorflow.keras.optimizers import Adam\n",
        "model = Sequential()\n",
        "model.add(mobnet)\n",
        "model.add(Dense(256, activation='relu', kernel_regularizer=regularizers.l2(0.001), input_dim=256))\n",
        "model.add(Dropout(0.5))\n",
        "model.add(Dense(4, activation='softmax'))\n",
        "model.compile(optimizer=Nadam(lr=0.0001), loss='categorical_crossentropy',metrics=['accuracy'])\n",
        "model.summary()\n"
      ],
      "execution_count": null,
      "outputs": []
    },
    {
      "cell_type": "code",
      "metadata": {
        "id": "NvZidZFfF4C_"
      },
      "source": [
        "history = model.fit_generator(train_generator,\n",
        "                    steps_per_epoch = train_generator.n// 16,\n",
        "                    validation_data=validation_generator,\n",
        "                    validation_steps=validation_generator.n // 16,\n",
        "                    epochs=50)"
      ],
      "execution_count": null,
      "outputs": []
    },
    {
      "cell_type": "code",
      "metadata": {
        "colab": {
          "base_uri": "https://localhost:8080/"
        },
        "id": "FBc7NulEn6Xb",
        "outputId": "6089e384-fee0-4a7a-b5ad-a5939c5c9aa9"
      },
      "source": [
        "'''resnet = MobileNet(weights='imagenet', include_top=False)\n",
        "x = resnet.output\n",
        "x = GlobalAveragePooling2D()(x)\n",
        "x = Dense(256,kernel_regularizer=regularizers.l2(0.001),activation='sigmoid')(x)\n",
        "x = Dropout(0.5)(x)\n",
        "\n",
        "predictions = Dense(4, activation='softmax')(x)\n",
        "\n",
        "model = Model(inputs=resnet.input, outputs=predictions)\n",
        "\n",
        "# # we use SGD with a low learning rate\n",
        "from keras.optimizers import Nadam\n",
        "from keras.optimizers import Adam\n",
        "model.compile(optimizer=Nadam(lr=0.0001), loss='categorical_crossentropy',metrics=['accuracy'])\n",
        "\n",
        "history = model.fit_generator(train_generator,\n",
        "                    steps_per_epoch = train_generator.n// 16,\n",
        "                    validation_data=validation_generator,\n",
        "                    validation_steps=validation_generator.n // 16,\n",
        "                    epochs=20,\n",
        "                    )\n",
        "\n",
        "model.save('model_trained_3class.hdf5')'''"
      ],
      "execution_count": null,
      "outputs": [
        {
          "output_type": "stream",
          "text": [
            "WARNING:tensorflow:`input_shape` is undefined or non-square, or `rows` is not in [128, 160, 192, 224]. Weights for input shape (224, 224) will be loaded as the default.\n",
            "Downloading data from https://storage.googleapis.com/tensorflow/keras-applications/mobilenet/mobilenet_1_0_224_tf_no_top.h5\n",
            "17227776/17225924 [==============================] - 0s 0us/step\n"
          ],
          "name": "stdout"
        },
        {
          "output_type": "stream",
          "text": [
            "/usr/local/lib/python3.7/dist-packages/tensorflow/python/keras/engine/training.py:1844: UserWarning: `Model.fit_generator` is deprecated and will be removed in a future version. Please use `Model.fit`, which supports generators.\n",
            "  warnings.warn('`Model.fit_generator` is deprecated and '\n"
          ],
          "name": "stderr"
        },
        {
          "output_type": "stream",
          "text": [
            "Epoch 1/20\n",
            "213/213 [==============================] - 1405s 7s/step - loss: 1.1357 - accuracy: 0.7069 - val_loss: 3.4939 - val_accuracy: 0.2064\n",
            "Epoch 2/20\n",
            "213/213 [==============================] - 957s 4s/step - loss: 0.6181 - accuracy: 0.9168 - val_loss: 3.4570 - val_accuracy: 0.2323\n",
            "Epoch 3/20\n",
            "213/213 [==============================] - 960s 5s/step - loss: 0.4875 - accuracy: 0.9638 - val_loss: 1.0894 - val_accuracy: 0.7925\n",
            "Epoch 4/20\n",
            "213/213 [==============================] - 961s 5s/step - loss: 0.4308 - accuracy: 0.9806 - val_loss: 0.6003 - val_accuracy: 0.9257\n",
            "Epoch 5/20\n",
            "213/213 [==============================] - 988s 5s/step - loss: 0.3874 - accuracy: 0.9839 - val_loss: 0.6106 - val_accuracy: 0.9092\n",
            "Epoch 6/20\n",
            "213/213 [==============================] - 972s 5s/step - loss: 0.3503 - accuracy: 0.9922 - val_loss: 0.6365 - val_accuracy: 0.8986\n",
            "Epoch 7/20\n",
            "213/213 [==============================] - 988s 5s/step - loss: 0.3166 - accuracy: 0.9950 - val_loss: 0.5545 - val_accuracy: 0.9351\n",
            "Epoch 8/20\n",
            "213/213 [==============================] - 987s 5s/step - loss: 0.2944 - accuracy: 0.9943 - val_loss: 0.6373 - val_accuracy: 0.9151\n",
            "Epoch 9/20\n",
            "213/213 [==============================] - 971s 5s/step - loss: 0.2839 - accuracy: 0.9924 - val_loss: 0.6601 - val_accuracy: 0.8986\n",
            "Epoch 10/20\n",
            "213/213 [==============================] - 973s 5s/step - loss: 0.2525 - accuracy: 0.9943 - val_loss: 0.5241 - val_accuracy: 0.9233\n",
            "Epoch 11/20\n",
            "213/213 [==============================] - 963s 5s/step - loss: 0.2282 - accuracy: 0.9957 - val_loss: 0.7576 - val_accuracy: 0.8620\n",
            "Epoch 12/20\n",
            "213/213 [==============================] - 965s 5s/step - loss: 0.2058 - accuracy: 0.9961 - val_loss: 0.5116 - val_accuracy: 0.9210\n",
            "Epoch 13/20\n",
            "213/213 [==============================] - 962s 5s/step - loss: 0.1941 - accuracy: 0.9942 - val_loss: 0.5433 - val_accuracy: 0.9175\n",
            "Epoch 14/20\n",
            "213/213 [==============================] - 972s 5s/step - loss: 0.1681 - accuracy: 0.9973 - val_loss: 0.5486 - val_accuracy: 0.8821\n",
            "Epoch 15/20\n",
            "213/213 [==============================] - 978s 5s/step - loss: 0.1667 - accuracy: 0.9902 - val_loss: 0.5592 - val_accuracy: 0.8903\n",
            "Epoch 16/20\n",
            "213/213 [==============================] - 986s 5s/step - loss: 0.1360 - accuracy: 0.9965 - val_loss: 0.4466 - val_accuracy: 0.9175\n",
            "Epoch 17/20\n",
            "213/213 [==============================] - 977s 5s/step - loss: 0.1357 - accuracy: 0.9902 - val_loss: 0.4817 - val_accuracy: 0.8915\n",
            "Epoch 18/20\n",
            "213/213 [==============================] - 963s 5s/step - loss: 0.1103 - accuracy: 0.9966 - val_loss: 0.4190 - val_accuracy: 0.9304\n",
            "Epoch 19/20\n",
            "213/213 [==============================] - 966s 5s/step - loss: 0.0958 - accuracy: 0.9971 - val_loss: 0.5294 - val_accuracy: 0.9210\n",
            "Epoch 20/20\n",
            "213/213 [==============================] - 952s 4s/step - loss: 0.0886 - accuracy: 0.9977 - val_loss: 0.5121 - val_accuracy: 0.9033\n"
          ],
          "name": "stdout"
        }
      ]
    },
    {
      "cell_type": "code",
      "metadata": {
        "id": "BC6zLnQ9HSGq"
      },
      "source": [
        "def plot_accuracy(history,title):\n",
        "    plt.title(title)\n",
        "    plt.plot(history.history['accuracy'])\n",
        "    plt.plot(history.history['val_accuracy'])\n",
        "    plt.ylabel('accuracy')\n",
        "    plt.xlabel('epoch')\n",
        "    plt.legend(['train_accuracy', 'validation_accuracy'], loc='best')\n",
        "    plt.show()\n",
        "def plot_loss(history,title):\n",
        "    plt.title(title)\n",
        "    plt.plot(history.history['loss'])\n",
        "    plt.plot(history.history['val_loss'])\n",
        "    plt.ylabel('loss')\n",
        "    plt.xlabel('epoch')\n",
        "    plt.legend(['train_loss', 'validation_loss'], loc='best')\n",
        "    plt.show()\n"
      ],
      "execution_count": null,
      "outputs": []
    },
    {
      "cell_type": "code",
      "metadata": {
        "colab": {
          "base_uri": "https://localhost:8080/",
          "height": 573
        },
        "id": "GxZ3AM48Ij7-",
        "outputId": "76fef1aa-398f-4d3d-f072-74ca184b66a1"
      },
      "source": [
        "plot_accuracy(history,'MOBILENET')\n",
        "plot_loss(history,'MOBILENET')"
      ],
      "execution_count": null,
      "outputs": [
        {
          "output_type": "display_data",
          "data": {
            "image/png": "[encoded data removed]",
            "text/plain": [
              "<Figure size 432x288 with 1 Axes>"
            ]
          },
          "metadata": {
            "tags": [],
            "needs_background": "light"
          }
        },
        {
          "output_type": "display_data",
          "data": {
            "image/png": "[encoded data removed]",
            "text/plain": [
              "<Figure size 432x288 with 1 Axes>"
            ]
          },
          "metadata": {
            "tags": [],
            "needs_background": "light"
          }
        }
      ]
    },
    {
      "cell_type": "code",
      "metadata": {
        "id": "GXvHEAXxixd-",
        "colab": {
          "base_uri": "https://localhost:8080/"
        },
        "outputId": "4598d569-8be5-4329-fb1b-3f5d9e510789"
      },
      "source": [
        "evaluate = model.evaluate_generator(test_generator, steps = test_generator.n//1, verbose = 1)"
      ],
      "execution_count": null,
      "outputs": [
        {
          "output_type": "stream",
          "text": [
            "/usr/local/lib/python3.7/dist-packages/tensorflow/python/keras/engine/training.py:1877: UserWarning: `Model.evaluate_generator` is deprecated and will be removed in a future version. Please use `Model.evaluate`, which supports generators.\n",
            "  warnings.warn('`Model.evaluate_generator` is deprecated and '\n"
          ],
          "name": "stderr"
        },
        {
          "output_type": "stream",
          "text": [
            "241/241 [==============================] - 126s 523ms/step - loss: 1.1953 - accuracy: 0.7386\n"
          ],
          "name": "stdout"
        }
      ]
    }
  ]
}