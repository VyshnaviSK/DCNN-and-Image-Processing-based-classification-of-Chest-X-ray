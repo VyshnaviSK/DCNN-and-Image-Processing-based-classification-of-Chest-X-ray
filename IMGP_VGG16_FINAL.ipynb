{
  "nbformat": 4,
  "nbformat_minor": 0,
  "metadata": {
    "accelerator": "GPU",
    "colab": {
      "provenance": [],
      "collapsed_sections": []
    },
    "kernelspec": {
      "display_name": "Python 3",
      "name": "python3"
    },
    "language_info": {
      "name": "python"
    }
  },
  "cells": [
    {
      "cell_type": "code",
      "metadata": {
        "id": "0Jr63aj97ppG"
      },
      "source": [
        "from keras.applications.xception import Xception, preprocess_input\n",
        "from keras.preprocessing import image\n",
        "from keras.models import Model\n",
        "from keras.layers import Input\n",
        "from keras.layers import Dense, GlobalAveragePooling2D\n",
        "from keras import backend as K\n",
        "from keras.models import Sequential\n",
        "from keras.layers import Dense\n",
        "from keras.layers import Dropout\n",
        "from keras.layers import Flatten\n",
        "from keras.layers.convolutional import Conv2D\n",
        "from keras.layers.convolutional import MaxPooling2D\n",
        "from keras.layers import BatchNormalization\n",
        "import keras\n",
        "import numpy as np\n",
        "import os\n",
        "import keras\n",
        "import numpy as np\n",
        "import tensorflow as tf\n",
        "#from tensorflow.keras.preprocessing.image import image\n",
        "from keras.preprocessing.image import img_to_array\n",
        "from keras.applications.resnet50 import preprocess_input\n",
        "from keras.applications.imagenet_utils import decode_predictions\n",
        "import matplotlib.pyplot as plt\n",
        "import cv2\n",
        "import tensorflow_datasets as tfds\n",
        "from tensorflow.keras.datasets import mnist\n",
        "import tensorflow as tf\n",
        "import matplotlib.image as img\n",
        "%matplotlib inline\n",
        "import numpy as np\n",
        "from collections import defaultdict\n",
        "import collections\n",
        "from shutil import copy\n",
        "from shutil import copytree, rmtree\n",
        "import tensorflow.keras.backend as K\n",
        "from tensorflow.keras.models import load_model\n",
        "from tensorflow.keras.preprocessing import image\n",
        "import matplotlib.pyplot as plt\n",
        "import numpy as np\n",
        "import os\n",
        "import random\n",
        "import tensorflow as tf\n",
        "import tensorflow.keras.backend as K\n",
        "from tensorflow.keras import regularizers\n",
        "from tensorflow.keras.applications.inception_v3 import InceptionV3\n",
        "from tensorflow.keras.models import Sequential, Model\n",
        "from tensorflow.keras.layers import Dense, Dropout, Activation, Flatten\n",
        "from tensorflow.keras.layers import Convolution2D, MaxPooling2D, ZeroPadding2D, GlobalAveragePooling2D, AveragePooling2D\n",
        "from tensorflow.keras.preprocessing.image import ImageDataGenerator\n",
        "from tensorflow.keras.callbacks import ModelCheckpoint, CSVLogger\n",
        "from tensorflow.keras.optimizers import SGD\n",
        "from tensorflow.keras.regularizers import l2\n",
        "from tensorflow import keras\n",
        "from tensorflow.keras import models\n",
        "import cv2\n",
        "\n",
        "import numpy as np\n",
        "import glob\n",
        "import cv2\n",
        "import os\n",
        "import matplotlib.pyplot as plt\n",
        "import h5py\n",
        "\n",
        "from tensorflow.keras import layers, optimizers\n",
        "from tensorflow.keras.applications.resnet50 import ResNet50\n",
        "from tensorflow.keras.applications.inception_v3 import InceptionV3\n",
        "from tensorflow.keras.layers import BatchNormalization, Flatten, Conv2D, SeparableConv2D\n",
        "from tensorflow.keras.layers import Input, Add, Dense, Activation, ZeroPadding2D, AveragePooling2D, MaxPooling2D, Dropout\n",
        "from tensorflow.keras.models import Model, load_model\n",
        "from tensorflow.keras import backend as K\n",
        "# from tensorflow.keras.backend.tensorflow_backend import set_session\n",
        "from tensorflow.keras.preprocessing.image import ImageDataGenerator\n",
        "from tensorflow.keras.callbacks import ReduceLROnPlateau, EarlyStopping, ModelCheckpoint, LearningRateScheduler\n",
        "import seaborn as sns\n",
        "import pandas as pd\n",
        "from sklearn.metrics import confusion_matrix, classification_report, accuracy_score\n",
        "from keras.models import load_model\n",
        "from sklearn.datasets import load_files   \n",
        "from keras.utils import np_utils\n",
        "from glob import glob\n",
        "from keras import applications\n",
        "from keras.preprocessing.image import ImageDataGenerator \n",
        "from keras import optimizers\n",
        "from keras.models import Sequential,Model,load_model\n",
        "from keras.layers import Dense, Dropout, Flatten, Conv2D, MaxPool2D,GlobalAveragePooling2D\n",
        "from keras.callbacks import TensorBoard,ReduceLROnPlateau,ModelCheckpoint"
      ],
      "execution_count": null,
      "outputs": []
    },
    {
      "cell_type": "code",
      "metadata": {
        "colab": {
          "base_uri": "https://localhost:8080/"
        },
        "id": "iJvzm3Y37tJK",
        "outputId": "6a9f05e3-26f7-400d-bb7a-57683b485c72"
      },
      "source": [
        "from google.colab import drive\n",
        "drive.mount('/content/drive')"
      ],
      "execution_count": null,
      "outputs": [
        {
          "output_type": "stream",
          "text": [
            "Drive already mounted at /content/drive; to attempt to forcibly remount, call drive.mount(\"/content/drive\", force_remount=True).\n"
          ],
          "name": "stdout"
        }
      ]
    },
    {
      "cell_type": "code",
      "metadata": {
        "colab": {
          "base_uri": "https://localhost:8080/"
        },
        "id": "8QzpRrPf8CgP",
        "outputId": "8bb0081a-2672-4827-c739-a8b45d2e7350"
      },
      "source": [
        "datagen = ImageDataGenerator(rescale = 1./255,\n",
        "        validation_split= 0.2,\n",
        "        preprocessing_function=preprocess_input\n",
        "        ) \n",
        "\n",
        "train_gen = datagen.flow_from_directory( batch_size = 16, \n",
        "                                                      directory= 'drive/MyDrive/Modified Images Part 4', \n",
        "                                                      shuffle = True, \n",
        "                                                      target_size = (256, 256), #pixel size\n",
        "                                                      class_mode = 'categorical', #categorical classfication\n",
        "                                                      subset= 'training',\n",
        "                                                       seed = 0)\n",
        "validation_gen = datagen.flow_from_directory(batch_size = 16,\n",
        "                                                     directory= 'drive/MyDrive/Modified Images Part 4',\n",
        "                                                     shuffle = True,\n",
        "                                                     target_size = (256, 256),\n",
        "                                                     class_mode = 'categorical', \n",
        "                                                     subset= 'validation')\n",
        "\n",
        "test_generator = datagen.flow_from_directory(\n",
        "        directory= 'drive/MyDrive/DOP_test',\n",
        "        shuffle = False,\n",
        "        target_size=(256, 256),\n",
        "        batch_size=1\n",
        "        )\n"
      ],
      "execution_count": null,
      "outputs": [
        {
          "output_type": "stream",
          "text": [
            "Found 3415 images belonging to 4 classes.\n",
            "Found 850 images belonging to 4 classes.\n",
            "Found 234 images belonging to 4 classes.\n"
          ],
          "name": "stdout"
        }
      ]
    },
    {
      "cell_type": "code",
      "metadata": {
        "id": "Jpq_DoHwG2rL"
      },
      "source": [
        "#from tensorflow.keras.applications.resnet50 import ResNet50\n",
        "from tensorflow.keras.models import Model\n",
        "import keras\n",
        "vgg = applications.VGG16(include_top=False, weights='imagenet', input_shape=(256,256,3))\n",
        "output = vgg.layers[-1].output\n",
        "output = keras.layers.Flatten()(output)\n",
        "vgg = Model(vgg.input, output)\n",
        "for layer in vgg.layers:\n",
        "    layer.trainable = False\n",
        "vgg.summary()"
      ],
      "execution_count": null,
      "outputs": []
    },
    {
      "cell_type": "code",
      "metadata": {
        "id": "n1kKf12KHgQO"
      },
      "source": [
        "from keras.layers import Conv2D, MaxPooling2D, Flatten, Dense, Dropout, InputLayer\n",
        "from keras.models import Sequential\n",
        "from keras import optimizers\n",
        "# # we use SGD with a low learning rate\n",
        "from tensorflow.keras.optimizers import Nadam\n",
        "from tensorflow.keras.optimizers import Adam\n",
        "model = Sequential()\n",
        "model.add(vgg)\n",
        "model.add(Dense(256, activation='relu', kernel_regularizer=regularizers.l2(0.001), input_dim=256))\n",
        "model.add(Dropout(0.5))\n",
        "model.add(Dense(4, activation='softmax'))\n",
        "model.compile(optimizer=Nadam(lr=0.0001), loss='categorical_crossentropy',metrics=['accuracy'])\n",
        "model.summary()"
      ],
      "execution_count": null,
      "outputs": []
    },
    {
      "cell_type": "code",
      "metadata": {
        "id": "juzaoJcUHlja"
      },
      "source": [
        "\n",
        "history = model.fit_generator(train_generator,\n",
        "                    steps_per_epoch = train_generator.n// 16,\n",
        "                    validation_data=validation_generator,\n",
        "                    validation_steps=validation_generator.n // 16,\n",
        "                    epochs=50)"
      ],
      "execution_count": null,
      "outputs": []
    },
    {
      "cell_type": "code",
      "metadata": {
        "colab": {
          "base_uri": "https://localhost:8080/"
        },
        "id": "RAbZ_2ir8Nnf",
        "outputId": "b15dba54-17ad-46cc-bd2a-ea41e193607e"
      },
      "source": [
        "'''from keras.applications.xception import Xception\n",
        "# from keras.applications.inception_resnet_v2 import InceptionResNetV2\n",
        "base_model = applications.VGG16(weights='imagenet', include_top=False)\n",
        "\n",
        "#add a global spatial average pooling layer\n",
        "x = base_model.output\n",
        "x = GlobalAveragePooling2D()(x)\n",
        "x = Dense(256, kernel_regularizer = regularizers.l2(0.001), activation='relu')(x)\n",
        "x = Dropout(0.5)(x)\n",
        "predictions = Dense(4,activation='softmax')(x)\n",
        "\n",
        "model = Model(inputs=base_model.input, outputs=predictions)\n",
        "\n",
        "# # we use SGD with a low learning rate\n",
        "from keras.optimizers import Nadam\n",
        "from keras.optimizers import Adam\n",
        "model.compile(optimizer=Nadam(lr=0.0001), loss='categorical_crossentropy',metrics=['accuracy'])\n",
        "# model.compile(optimizer='adam', loss='binary_crossentropy',metrics=['accuracy'])\n",
        "\n",
        "# # we train our model again (this time fine-tuning the top 2 inception blocks\n",
        "# # alongside the top Dense layers\n",
        "# model.fit_generator(...)\n",
        "#model.fit(X_train, y_train, validation_data=(X_val, y_val),shuffle=\"batch\" ,epochs=10, batch_size=10,verbose=1)\n",
        "history = model.fit(train_gen, \n",
        "                              steps_per_epoch= train_gen.n // 16, \n",
        "                              epochs = 50, \n",
        "                              validation_data= validation_gen, \n",
        "                              validation_steps= validation_gen.n // 16\n",
        "                              )'''"
      ],
      "execution_count": null,
      "outputs": [
        {
          "output_type": "stream",
          "text": [
            "Epoch 1/50\n",
            "213/213 [==============================] - 879s 4s/step - loss: 1.5633 - accuracy: 0.5051 - val_loss: 0.6539 - val_accuracy: 0.8750\n",
            "Epoch 2/50\n",
            "213/213 [==============================] - 67s 313ms/step - loss: 0.7600 - accuracy: 0.8196 - val_loss: 0.5318 - val_accuracy: 0.8974\n",
            "Epoch 3/50\n",
            "213/213 [==============================] - 66s 312ms/step - loss: 0.5462 - accuracy: 0.8897 - val_loss: 0.5656 - val_accuracy: 0.8762\n",
            "Epoch 4/50\n",
            "213/213 [==============================] - 67s 313ms/step - loss: 0.4983 - accuracy: 0.8928 - val_loss: 0.6265 - val_accuracy: 0.8443\n",
            "Epoch 5/50\n",
            "213/213 [==============================] - 67s 314ms/step - loss: 0.3991 - accuracy: 0.9294 - val_loss: 0.4675 - val_accuracy: 0.8986\n",
            "Epoch 6/50\n",
            "213/213 [==============================] - 67s 313ms/step - loss: 0.4139 - accuracy: 0.9182 - val_loss: 0.4413 - val_accuracy: 0.9057\n",
            "Epoch 7/50\n",
            "213/213 [==============================] - 66s 312ms/step - loss: 0.3630 - accuracy: 0.9274 - val_loss: 0.3941 - val_accuracy: 0.9233\n",
            "Epoch 8/50\n",
            "213/213 [==============================] - 67s 312ms/step - loss: 0.3057 - accuracy: 0.9530 - val_loss: 0.4460 - val_accuracy: 0.9080\n",
            "Epoch 9/50\n",
            "213/213 [==============================] - 67s 314ms/step - loss: 0.2996 - accuracy: 0.9539 - val_loss: 0.3874 - val_accuracy: 0.9186\n",
            "Epoch 10/50\n",
            "213/213 [==============================] - 66s 311ms/step - loss: 0.2463 - accuracy: 0.9716 - val_loss: 0.3985 - val_accuracy: 0.9198\n",
            "Epoch 11/50\n",
            "213/213 [==============================] - 66s 310ms/step - loss: 0.2114 - accuracy: 0.9781 - val_loss: 0.5731 - val_accuracy: 0.8844\n",
            "Epoch 12/50\n",
            "213/213 [==============================] - 66s 310ms/step - loss: 0.2065 - accuracy: 0.9817 - val_loss: 0.3944 - val_accuracy: 0.9210\n",
            "Epoch 13/50\n",
            "213/213 [==============================] - 66s 311ms/step - loss: 0.2018 - accuracy: 0.9788 - val_loss: 0.4157 - val_accuracy: 0.9057\n",
            "Epoch 14/50\n",
            "213/213 [==============================] - 67s 313ms/step - loss: 0.1515 - accuracy: 0.9960 - val_loss: 0.4938 - val_accuracy: 0.8962\n",
            "Epoch 15/50\n",
            "213/213 [==============================] - 66s 311ms/step - loss: 0.1751 - accuracy: 0.9811 - val_loss: 0.4576 - val_accuracy: 0.9175\n",
            "Epoch 16/50\n",
            "213/213 [==============================] - 66s 310ms/step - loss: 0.1522 - accuracy: 0.9908 - val_loss: 0.5591 - val_accuracy: 0.8903\n",
            "Epoch 17/50\n",
            "213/213 [==============================] - 66s 312ms/step - loss: 0.1556 - accuracy: 0.9868 - val_loss: 0.4042 - val_accuracy: 0.9104\n",
            "Epoch 18/50\n",
            "213/213 [==============================] - 66s 311ms/step - loss: 0.1257 - accuracy: 0.9952 - val_loss: 0.4389 - val_accuracy: 0.9186\n",
            "Epoch 19/50\n",
            "213/213 [==============================] - 66s 312ms/step - loss: 0.1153 - accuracy: 0.9971 - val_loss: 0.4702 - val_accuracy: 0.9163\n",
            "Epoch 20/50\n",
            "213/213 [==============================] - 66s 311ms/step - loss: 0.1400 - accuracy: 0.9877 - val_loss: 0.4389 - val_accuracy: 0.9033\n",
            "Epoch 21/50\n",
            "213/213 [==============================] - 66s 311ms/step - loss: 0.1349 - accuracy: 0.9875 - val_loss: 0.5413 - val_accuracy: 0.9116\n",
            "Epoch 22/50\n",
            "213/213 [==============================] - 66s 312ms/step - loss: 0.1577 - accuracy: 0.9771 - val_loss: 0.4120 - val_accuracy: 0.9198\n",
            "Epoch 23/50\n",
            "213/213 [==============================] - 67s 313ms/step - loss: 0.1038 - accuracy: 0.9961 - val_loss: 0.5111 - val_accuracy: 0.8856\n",
            "Epoch 24/50\n",
            "213/213 [==============================] - 67s 314ms/step - loss: 0.1289 - accuracy: 0.9878 - val_loss: 0.4327 - val_accuracy: 0.9186\n",
            "Epoch 25/50\n",
            "213/213 [==============================] - 67s 313ms/step - loss: 0.0832 - accuracy: 0.9994 - val_loss: 0.4268 - val_accuracy: 0.9222\n",
            "Epoch 26/50\n",
            "213/213 [==============================] - 66s 310ms/step - loss: 0.0769 - accuracy: 1.0000 - val_loss: 0.4548 - val_accuracy: 0.9257\n",
            "Epoch 27/50\n",
            "213/213 [==============================] - 67s 314ms/step - loss: 0.0728 - accuracy: 1.0000 - val_loss: 0.4491 - val_accuracy: 0.9245\n",
            "Epoch 28/50\n",
            "213/213 [==============================] - 67s 313ms/step - loss: 0.0688 - accuracy: 1.0000 - val_loss: 0.4536 - val_accuracy: 0.9269\n",
            "Epoch 29/50\n",
            "213/213 [==============================] - 67s 314ms/step - loss: 0.0648 - accuracy: 1.0000 - val_loss: 0.4583 - val_accuracy: 0.9257\n",
            "Epoch 30/50\n",
            "213/213 [==============================] - 67s 313ms/step - loss: 0.0608 - accuracy: 1.0000 - val_loss: 0.4574 - val_accuracy: 0.9269\n",
            "Epoch 31/50\n",
            "213/213 [==============================] - 67s 314ms/step - loss: 0.0567 - accuracy: 1.0000 - val_loss: 0.4615 - val_accuracy: 0.9281\n",
            "Epoch 32/50\n",
            "213/213 [==============================] - 67s 314ms/step - loss: 0.0527 - accuracy: 1.0000 - val_loss: 0.4561 - val_accuracy: 0.9292\n",
            "Epoch 33/50\n",
            "213/213 [==============================] - 67s 314ms/step - loss: 0.0487 - accuracy: 1.0000 - val_loss: 0.4770 - val_accuracy: 0.9304\n",
            "Epoch 34/50\n",
            "213/213 [==============================] - 67s 314ms/step - loss: 0.0447 - accuracy: 1.0000 - val_loss: 0.4920 - val_accuracy: 0.9292\n",
            "Epoch 35/50\n",
            "213/213 [==============================] - 67s 314ms/step - loss: 0.0407 - accuracy: 1.0000 - val_loss: 0.4891 - val_accuracy: 0.9304\n",
            "Epoch 36/50\n",
            "213/213 [==============================] - 67s 316ms/step - loss: 0.0369 - accuracy: 1.0000 - val_loss: 0.4872 - val_accuracy: 0.9245\n",
            "Epoch 37/50\n",
            "213/213 [==============================] - 67s 316ms/step - loss: 0.0333 - accuracy: 1.0000 - val_loss: 0.4892 - val_accuracy: 0.9269\n",
            "Epoch 38/50\n",
            "213/213 [==============================] - 67s 316ms/step - loss: 0.0297 - accuracy: 1.0000 - val_loss: 0.5071 - val_accuracy: 0.9269\n",
            "Epoch 39/50\n",
            "213/213 [==============================] - 67s 315ms/step - loss: 0.0264 - accuracy: 1.0000 - val_loss: 0.5079 - val_accuracy: 0.9245\n",
            "Epoch 40/50\n",
            "213/213 [==============================] - 67s 315ms/step - loss: 0.0232 - accuracy: 1.0000 - val_loss: 0.5124 - val_accuracy: 0.9233\n",
            "Epoch 41/50\n",
            "213/213 [==============================] - 67s 317ms/step - loss: 0.0202 - accuracy: 1.0000 - val_loss: 0.5317 - val_accuracy: 0.9175\n",
            "Epoch 42/50\n",
            "213/213 [==============================] - 67s 314ms/step - loss: 0.0175 - accuracy: 1.0000 - val_loss: 0.5166 - val_accuracy: 0.9233\n",
            "Epoch 43/50\n",
            "213/213 [==============================] - 66s 311ms/step - loss: 0.0150 - accuracy: 1.0000 - val_loss: 0.5004 - val_accuracy: 0.9245\n",
            "Epoch 44/50\n",
            "213/213 [==============================] - 66s 311ms/step - loss: 0.0127 - accuracy: 1.0000 - val_loss: 0.5218 - val_accuracy: 0.9222\n",
            "Epoch 45/50\n",
            "213/213 [==============================] - 66s 311ms/step - loss: 0.0106 - accuracy: 1.0000 - val_loss: 0.5113 - val_accuracy: 0.9233\n",
            "Epoch 46/50\n",
            "213/213 [==============================] - 66s 311ms/step - loss: 0.0088 - accuracy: 1.0000 - val_loss: 0.5193 - val_accuracy: 0.9245\n",
            "Epoch 47/50\n",
            "213/213 [==============================] - 66s 311ms/step - loss: 0.1274 - accuracy: 0.9634 - val_loss: 1.2010 - val_accuracy: 0.4021\n",
            "Epoch 48/50\n",
            "213/213 [==============================] - 66s 310ms/step - loss: 1.4951 - accuracy: 0.3853 - val_loss: 1.2081 - val_accuracy: 0.4021\n",
            "Epoch 49/50\n",
            "213/213 [==============================] - 67s 316ms/step - loss: 1.4323 - accuracy: 0.3922 - val_loss: 1.1990 - val_accuracy: 0.4033\n",
            "Epoch 50/50\n",
            "213/213 [==============================] - 66s 312ms/step - loss: 1.4102 - accuracy: 0.3832 - val_loss: 1.1991 - val_accuracy: 0.4045\n"
          ],
          "name": "stdout"
        }
      ]
    },
    {
      "cell_type": "code",
      "metadata": {
        "id": "ZGxgVLUC7p8-"
      },
      "source": [
        "def plot_accuracy(history,title):\n",
        "    plt.title(title)\n",
        "    plt.plot(history.history['accuracy'])\n",
        "    plt.plot(history.history['val_accuracy'])\n",
        "    plt.ylabel('accuracy')\n",
        "    plt.xlabel('epoch')\n",
        "    plt.legend(['train_accuracy', 'validation_accuracy'], loc='best')\n",
        "    plt.show()\n",
        "def plot_loss(history,title):\n",
        "    plt.title(title)\n",
        "    plt.plot(history.history['loss'])\n",
        "    plt.plot(history.history['val_loss'])\n",
        "    plt.ylabel('loss')\n",
        "    plt.xlabel('epoch')\n",
        "    plt.legend(['train_loss', 'validation_loss'], loc='best')\n",
        "    plt.show()"
      ],
      "execution_count": null,
      "outputs": []
    },
    {
      "cell_type": "code",
      "metadata": {
        "colab": {
          "base_uri": "https://localhost:8080/",
          "height": 573
        },
        "id": "g8fN2OVq75Jw",
        "outputId": "b935dcab-25c4-46cb-d2b5-ebe54e332659"
      },
      "source": [
        "plot_accuracy(history,'Xception')\n",
        "plot_loss(history,'Xception')"
      ],
      "execution_count": null,
      "outputs": [
        {
          "output_type": "display_data",
          "data": {
            "image/png": "[encoded data removed]",
            "text/plain": [
              "<Figure size 432x288 with 1 Axes>"
            ]
          },
          "metadata": {
            "tags": [],
            "needs_background": "light"
          }
        },
        {
          "output_type": "display_data",
          "data": {
            "image/png": "[encoded data removed]",
            "text/plain": [
              "<Figure size 432x288 with 1 Axes>"
            ]
          },
          "metadata": {
            "tags": [],
            "needs_background": "light"
          }
        }
      ]
    },
    {
      "cell_type": "code",
      "metadata": {
        "colab": {
          "base_uri": "https://localhost:8080/"
        },
        "id": "F1sqJ1_Gw1X4",
        "outputId": "1e3975bb-e1d2-4fae-cb0f-57f0d62fd493"
      },
      "source": [
        "evaluate = model.evaluate_generator(test_generator, steps = test_generator.n//1, verbose = 1)"
      ],
      "execution_count": null,
      "outputs": [
        {
          "output_type": "stream",
          "text": [
            "/usr/local/lib/python3.7/dist-packages/tensorflow/python/keras/engine/training.py:1877: UserWarning: `Model.evaluate_generator` is deprecated and will be removed in a future version. Please use `Model.evaluate`, which supports generators.\n",
            "  warnings.warn('`Model.evaluate_generator` is deprecated and '\n"
          ],
          "name": "stderr"
        },
        {
          "output_type": "stream",
          "text": [
            "234/234 [==============================] - 105s 448ms/step - loss: 1.5530 - accuracy: 0.2991\n"
          ],
          "name": "stdout"
        }
      ]
    }
  ]
}